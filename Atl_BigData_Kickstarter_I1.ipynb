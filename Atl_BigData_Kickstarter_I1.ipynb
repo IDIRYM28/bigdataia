{
  "cells": [
    {
      "cell_type": "markdown",
      "metadata": {
        "id": "view-in-github",
        "colab_type": "text"
      },
      "source": [
        "<a href=\"https://colab.research.google.com/github/IDIRYM28/bigdataia/blob/main/Atl_BigData_Kickstarter_I1.ipynb\" target=\"_parent\"><img src=\"https://colab.research.google.com/assets/colab-badge.svg\" alt=\"Open In Colab\"/></a>"
      ]
    },
    {
      "cell_type": "markdown",
      "metadata": {
        "id": "7StMgLmh_Sq-"
      },
      "source": [
        "# Atelier BigData IA\n",
        "\n",
        "## Challenge - Kickstarter preprocessing\n",
        "---\n",
        "In this exercise, we will start working on the Kickstarter dataset, each record is about a specific campaign. Today, you will pre-process the dataset.\n",
        "\n",
        "During the next Spark course, you will apply machine learning to predict successful campaigns."
      ]
    },
    {
      "cell_type": "code",
      "execution_count": 40,
      "metadata": {
        "ExecuteTime": {
          "end_time": "2019-05-24T11:32:32.573002Z",
          "start_time": "2019-05-24T11:32:29.195373Z"
        },
        "colab": {
          "base_uri": "https://localhost:8080/"
        },
        "id": "NQrtAqQP_SrA",
        "outputId": "78d29f92-a915-47a3-d480-6f7fb08f9ca7"
      },
      "outputs": [
        {
          "output_type": "stream",
          "name": "stdout",
          "text": [
            "  % Total    % Received % Xferd  Average Speed   Time    Time     Time  Current\n",
            "                                 Dload  Upload   Total   Spent    Left  Speed\n",
            "100 31.1M  100 31.1M    0     0  10.8M      0  0:00:02  0:00:02 --:--:-- 10.8M\n"
          ]
        }
      ],
      "source": [
        "# Q0 - download csv file\n",
        "!curl -O https://s3.eu-central-1.amazonaws.com/alex-image-hosting/train_clean.csv > train_clean.csv"
      ]
    },
    {
      "cell_type": "markdown",
      "metadata": {
        "id": "Q-iqpHWb_SrB"
      },
      "source": [
        "**Q1 - Have a look at our train_clean.csv file, with the linux ```head``` command.**"
      ]
    },
    {
      "cell_type": "code",
      "execution_count": 41,
      "metadata": {
        "ExecuteTime": {
          "end_time": "2019-05-24T11:32:32.975499Z",
          "start_time": "2019-05-24T11:32:32.846049Z"
        },
        "colab": {
          "base_uri": "https://localhost:8080/"
        },
        "id": "Ie40VnPJ_SrC",
        "outputId": "8170748b-2885-4982-916c-8c620543c3f5"
      },
      "outputs": [
        {
          "output_type": "stream",
          "name": "stdout",
          "text": [
            "project_id,name,desc,goal,keywords,disable_communication,country,currency,deadline,state_changed_at,created_at,launched_at,backers_count,final_status\n",
            "kkst1451568084,drawing for dollars,I like drawing pictures. and then i color them too. so i thought i would suggest something for me to draw and then if someone wants...,20.0,drawing-for-dollars,False,US,USD,1241333999,1241334017,1240600507,1240602723,3,1\n",
            "kkst1474482071,Sponsor Dereck Blackburn (Lostwars) Artist in Residence in Kankakee Illinois,I  Dereck Blackburn will be taking upon an incredible journey in the month of May 2009. I will be traveling to my hometown of Kankakee...,300.0,sponsor-dereck-blackburn-lostwars-artist-in-residence-in-kankakee-illinois,False,US,USD,1242429000,1242432018,1240960224,1240975592,2,0\n"
          ]
        }
      ],
      "source": [
        "# Q1 - Unix command for file first lines\n",
        "!head -3 train_clean.csv\n",
        "#import pandas as pd\n",
        "#dataframe = pd.read_csv('train_clean.csv',sep=',')\n",
        "#print(dataframe.head())"
      ]
    },
    {
      "cell_type": "markdown",
      "metadata": {
        "id": "ELg23dcR_SrC"
      },
      "source": [
        "**Q2 - Create the spark session variable, name it \"preprocessing\".**"
      ]
    },
    {
      "cell_type": "code",
      "source": [
        "#!pip install pyspark"
      ],
      "metadata": {
        "id": "MXa1KafMTjB_"
      },
      "execution_count": 42,
      "outputs": []
    },
    {
      "cell_type": "code",
      "execution_count": 43,
      "metadata": {
        "ExecuteTime": {
          "end_time": "2019-05-24T08:51:01.320927Z",
          "start_time": "2019-05-24T08:50:54.625009Z"
        },
        "id": "-wHyD6oR_SrC"
      },
      "outputs": [],
      "source": [
        "# TODO\n",
        "from pyspark.sql import SparkSession\n",
        "\n",
        "spark = SparkSession.builder.appName('preprocessing').getOrCreate()\n",
        "\n"
      ]
    },
    {
      "cell_type": "markdown",
      "metadata": {
        "id": "UoKspQNZ_SrC"
      },
      "source": [
        "## Loading & exploring data\n",
        "\n",
        "**Q3 - Load the data from the train_clean.csv. We have seen at Q1 that this file has a header.**"
      ]
    },
    {
      "cell_type": "code",
      "execution_count": 44,
      "metadata": {
        "ExecuteTime": {
          "end_time": "2019-05-24T08:51:07.676814Z",
          "start_time": "2019-05-24T08:51:02.066030Z"
        },
        "id": "42dFJTXJ_SrC"
      },
      "outputs": [],
      "source": [
        "# TODO\n",
        "data = spark.read.csv('train_clean.csv',header=True,inferSchema=True)"
      ]
    },
    {
      "cell_type": "markdown",
      "metadata": {
        "id": "oajTSN_h_SrC"
      },
      "source": [
        "**Q4 - Let's go for some exploration :**\n",
        "\t- 4.1) Number of lines and columns.\n",
        "\t- 4.2) Display the first 20  rows of the dataframe.\n",
        "\t- 4.3) Print the schema of the dataframe."
      ]
    },
    {
      "cell_type": "code",
      "execution_count": 45,
      "metadata": {
        "ExecuteTime": {
          "end_time": "2019-05-24T08:51:09.447397Z",
          "start_time": "2019-05-24T08:51:07.680402Z"
        },
        "colab": {
          "base_uri": "https://localhost:8080/"
        },
        "id": "1iEYEtaH_SrD",
        "outputId": "11b0c07e-b821-4f4b-9ced-1706fc1d3827"
      },
      "outputs": [
        {
          "output_type": "stream",
          "name": "stdout",
          "text": [
            "The dataframe has 108129 lines\n",
            "The dataframe has  14 columns\n"
          ]
        }
      ],
      "source": [
        "# Q4.1\n",
        "nbr_lines=data.count()\n",
        "nbr_col = len(data.columns)\n",
        "print(f'The dataframe has {nbr_lines} lines')\n",
        "print(f\"The dataframe has  {nbr_col} columns\")"
      ]
    },
    {
      "cell_type": "code",
      "execution_count": 46,
      "metadata": {
        "ExecuteTime": {
          "end_time": "2019-05-24T08:51:12.513613Z",
          "start_time": "2019-05-24T08:51:12.156389Z"
        },
        "scrolled": false,
        "colab": {
          "base_uri": "https://localhost:8080/"
        },
        "id": "E7DEUpaM_SrD",
        "outputId": "e5f92b5d-2736-4d94-80cb-352f7f9c1992"
      },
      "outputs": [
        {
          "output_type": "stream",
          "name": "stdout",
          "text": [
            "+--------------+--------------------+--------------------+-----+--------------------+---------------------+-------+--------+----------+----------------+----------+-----------+-------------+------------+\n",
            "|    project_id|                name|                desc| goal|            keywords|disable_communication|country|currency|  deadline|state_changed_at|created_at|launched_at|backers_count|final_status|\n",
            "+--------------+--------------------+--------------------+-----+--------------------+---------------------+-------+--------+----------+----------------+----------+-----------+-------------+------------+\n",
            "|kkst1451568084| drawing for dollars|I like drawing pi...| 20.0| drawing-for-dollars|                False|     US|     USD|1241333999|      1241334017|1240600507| 1240602723|            3|           1|\n",
            "|kkst1474482071|Sponsor Dereck Bl...|I  Dereck Blackbu...|300.0|sponsor-dereck-bl...|                False|     US|     USD|1242429000|      1242432018|1240960224| 1240975592|            2|           0|\n",
            "| kkst183622197|       Mr. Squiggles|So I saw darkpony...| 30.0|        mr-squiggles|                False|     US|     USD|1243027560|      1243027818|1242163613| 1242164398|            0|           0|\n",
            "+--------------+--------------------+--------------------+-----+--------------------+---------------------+-------+--------+----------+----------------+----------+-----------+-------------+------------+\n",
            "only showing top 3 rows\n",
            "\n",
            "Displaying of the first 3 records :\n"
          ]
        }
      ],
      "source": [
        "# Q4.2\n",
        "data.show(3)\n",
        "print(\"Displaying of the first 3 records :\")\n"
      ]
    },
    {
      "cell_type": "code",
      "execution_count": 47,
      "metadata": {
        "ExecuteTime": {
          "end_time": "2019-05-24T08:51:14.070431Z",
          "start_time": "2019-05-24T08:51:14.056905Z"
        },
        "scrolled": true,
        "colab": {
          "base_uri": "https://localhost:8080/"
        },
        "id": "pw9xqblT_SrD",
        "outputId": "dfa8558a-6de2-4207-e589-573768b68228"
      },
      "outputs": [
        {
          "output_type": "stream",
          "name": "stdout",
          "text": [
            "root\n",
            " |-- project_id: string (nullable = true)\n",
            " |-- name: string (nullable = true)\n",
            " |-- desc: string (nullable = true)\n",
            " |-- goal: string (nullable = true)\n",
            " |-- keywords: string (nullable = true)\n",
            " |-- disable_communication: string (nullable = true)\n",
            " |-- country: string (nullable = true)\n",
            " |-- currency: string (nullable = true)\n",
            " |-- deadline: string (nullable = true)\n",
            " |-- state_changed_at: string (nullable = true)\n",
            " |-- created_at: string (nullable = true)\n",
            " |-- launched_at: string (nullable = true)\n",
            " |-- backers_count: integer (nullable = true)\n",
            " |-- final_status: integer (nullable = true)\n",
            "\n",
            "Schema of the dataframe :\n"
          ]
        }
      ],
      "source": [
        "# Q4.3\n",
        "data.printSchema()\n",
        "print(\"Schema of the dataframe :\")\n"
      ]
    },
    {
      "cell_type": "markdown",
      "metadata": {
        "id": "1Fpc2J0C_SrD"
      },
      "source": [
        "**Q5 - When printing the schema, we see that all columns are strings. Assign the integer type to columns you think appropriate. Have a look at the csv file. This new dataframe will be named dfCasted, print its schema.**\n",
        "\n",
        "*Hint : Use the .withColumn(newColName, newColValue) to cast each column.*"
      ]
    },
    {
      "cell_type": "code",
      "execution_count": 48,
      "metadata": {
        "id": "4EUA7Uz-_SrD"
      },
      "outputs": [],
      "source": [
        "# TODO\n",
        "col ={\n",
        "    'goal':'int',\n",
        "    'deadline':'int'\n",
        "}\n",
        "for key, items in col.items():\n",
        "  dfCasted = data.withColumn(key,data[key].cast(items))\n",
        "\n"
      ]
    },
    {
      "cell_type": "markdown",
      "metadata": {
        "id": "ifYMbbel_SrD"
      },
      "source": [
        "```\n",
        "root\n",
        " |-- project_id: string (nullable = true)\n",
        " |-- name: string (nullable = true)\n",
        " |-- desc: string (nullable = true)\n",
        " |-- goal: integer (nullable = true)\n",
        " |-- keywords: string (nullable = true)\n",
        " |-- disable_communication: string (nullable = true)\n",
        " |-- country: string (nullable = true)\n",
        " |-- currency: string (nullable = true)\n",
        " |-- deadline: integer (nullable = true)\n",
        " |-- state_changed_at: integer (nullable = true)\n",
        " |-- created_at: integer (nullable = true)\n",
        " |-- launched_at: integer (nullable = true)\n",
        " |-- backers_count: integer (nullable = true)\n",
        " |-- final_status: integer (nullable = true)\n",
        "```"
      ]
    },
    {
      "cell_type": "markdown",
      "metadata": {
        "id": "ZiELkb7g_SrH"
      },
      "source": [
        "**Q6 - We could have done this much faster. Do you know how ?**\n",
        "\n",
        "**Hint** : Have a look at parameters in cell n°4"
      ]
    },
    {
      "cell_type": "code",
      "execution_count": 49,
      "metadata": {
        "id": "ZiJABtZA_SrH"
      },
      "outputs": [],
      "source": [
        "# TODO : Write your answer"
      ]
    },
    {
      "cell_type": "markdown",
      "metadata": {
        "id": "sSxp0yAm_SrH"
      },
      "source": [
        "## Data Cleaning\n",
        "\n",
        "**Q7 - Give a statistical description of these columns together : goal, backers_count, final_status**"
      ]
    },
    {
      "cell_type": "code",
      "execution_count": 50,
      "metadata": {
        "ExecuteTime": {
          "end_time": "2019-05-24T08:51:20.369650Z",
          "start_time": "2019-05-24T08:51:18.922089Z"
        },
        "colab": {
          "base_uri": "https://localhost:8080/"
        },
        "id": "6f_P4v7s_SrH",
        "outputId": "6e06c4e4-b854-46c3-8369-b913096bca4b"
      },
      "outputs": [
        {
          "output_type": "stream",
          "name": "stdout",
          "text": [
            "+-------+--------------------+------------------+-------------------+\n",
            "|summary|                goal|     backers_count|       final_status|\n",
            "+-------+--------------------+------------------+-------------------+\n",
            "|  count|              108128|            108128|             108128|\n",
            "|   mean|   36839.03487571435| 6434187.413250962| 1052360.7834973366|\n",
            "| stddev|   974215.3015402406|9.32406172664945E7|3.776049940184155E7|\n",
            "|    min| & Chill\"\"\"\"\"\"\"\"\"...|                 0|                  0|\n",
            "|    max|“Selene’s Hollywo...|        1430423170|         1428977971|\n",
            "+-------+--------------------+------------------+-------------------+\n",
            "\n"
          ]
        }
      ],
      "source": [
        "# TODO\n",
        "col_to_do = ['goal','backers_count','final_status']\n",
        "\n",
        "dfCasted.describe(*col_to_do).show()\n"
      ]
    },
    {
      "cell_type": "markdown",
      "metadata": {
        "id": "UBlu4Hjj_SrH"
      },
      "source": [
        "**Q8 - Let's have a look at the **disable_communication** column. Group by values and display a descending value count. Show the top 10 values.**\n",
        "\n",
        "*Hint : groupBy, count, orderBy, show*\n",
        "\n",
        "What do you notice ? Considering the number of lines of our dataset, does this column provides information ?"
      ]
    },
    {
      "cell_type": "code",
      "execution_count": 51,
      "metadata": {
        "ExecuteTime": {
          "end_time": "2019-05-24T08:51:23.635163Z",
          "start_time": "2019-05-24T08:51:21.334821Z"
        },
        "colab": {
          "base_uri": "https://localhost:8080/"
        },
        "id": "gMcTXfWR_SrI",
        "outputId": "cc376374-6991-49bd-8314-c338a53f9662"
      },
      "outputs": [
        {
          "output_type": "stream",
          "name": "stdout",
          "text": [
            "+---------------------+------+\n",
            "|disable_communication| count|\n",
            "+---------------------+------+\n",
            "|                False|107293|\n",
            "|                 True|   322|\n",
            "|               2500.0|     8|\n",
            "|               1000.0|     7|\n",
            "|               5000.0|     6|\n",
            "|              10000.0|     5|\n",
            "|               2000.0|     4|\n",
            "|              25000.0|     3|\n",
            "|               3000.0|     3|\n",
            "|  The Artist s Pro...|     3|\n",
            "+---------------------+------+\n",
            "only showing top 10 rows\n",
            "\n"
          ]
        }
      ],
      "source": [
        "# TODO\n",
        "from pyspark.sql.functions import col\n",
        "data_group = dfCasted.groupBy('disable_communication').count()\n",
        "data_group.sort('count',ascending=False).show(10)\n",
        "\n"
      ]
    },
    {
      "cell_type": "markdown",
      "metadata": {
        "id": "VKboGnlP_SrI"
      },
      "source": [
        "**What shall you do with this **disable_communication** column ?**"
      ]
    },
    {
      "cell_type": "code",
      "execution_count": 52,
      "metadata": {
        "id": "NfbVvb0N_SrI",
        "colab": {
          "base_uri": "https://localhost:8080/"
        },
        "outputId": "aae23995-abcc-45cd-c237-1c679cb400b9"
      },
      "outputs": [
        {
          "output_type": "stream",
          "name": "stdout",
          "text": [
            "99.22684941135125\n"
          ]
        }
      ],
      "source": [
        "# TODO\n",
        "from pyspark.sql.functions import when, col, lit\n",
        "#drop\n",
        "count = data_group.filter(col(\"disable_communication\")=='False')\n",
        "max=count.select('count').collect()[0][0]\n",
        "per=(max / nbr_lines) * 100\n",
        "print(per)\n",
        "dfCasted = dfCasted.withColumn(\"communication\",\n",
        "                       when(col(\"disable_communication\") == \"False\", lit(\" \"))  # Assign \" \" when False\n",
        "                       .otherwise(col(\"disable_communication\")))\n",
        "dfCasted = dfCasted.withColumn(\"disable_communication\",\n",
        "                       when((col(\"disable_communication\") != \"False\") & (col(\"disable_communication\") != \"True\"), lit(\"True\"))\n",
        "                       .otherwise(col(\"disable_communication\")))\n",
        "dfCasted = dfCasted.dropna(subset=[\"disable_communication\"])\n",
        "dfCasted = dfCasted.withColumn(\"disable_communication\", col(\"disable_communication\").cast(\"boolean\"))\n",
        "dfCasted=dfCasted.drop(\"disable_communication\")\n"
      ]
    },
    {
      "cell_type": "code",
      "source": [
        "#show\n",
        "dfCasted.show()"
      ],
      "metadata": {
        "colab": {
          "base_uri": "https://localhost:8080/"
        },
        "id": "1F9jhhg3qF_L",
        "outputId": "e65f9649-c095-4d73-83d2-eeae77c17419"
      },
      "execution_count": 53,
      "outputs": [
        {
          "output_type": "stream",
          "name": "stdout",
          "text": [
            "+--------------+--------------------+--------------------+-------+--------------------+-------+--------+----------+----------------+----------+-----------+-------------+------------+-------------+\n",
            "|    project_id|                name|                desc|   goal|            keywords|country|currency|  deadline|state_changed_at|created_at|launched_at|backers_count|final_status|communication|\n",
            "+--------------+--------------------+--------------------+-------+--------------------+-------+--------+----------+----------------+----------+-----------+-------------+------------+-------------+\n",
            "|kkst1451568084| drawing for dollars|I like drawing pi...|   20.0| drawing-for-dollars|     US|     USD|1241333999|      1241334017|1240600507| 1240602723|            3|           1|             |\n",
            "|kkst1474482071|Sponsor Dereck Bl...|I  Dereck Blackbu...|  300.0|sponsor-dereck-bl...|     US|     USD|1242429000|      1242432018|1240960224| 1240975592|            2|           0|             |\n",
            "| kkst183622197|       Mr. Squiggles|So I saw darkpony...|   30.0|        mr-squiggles|     US|     USD|1243027560|      1243027818|1242163613| 1242164398|            0|           0|             |\n",
            "| kkst597742710|Help me write my ...|Do your part to h...|  500.0|help-me-write-my-...|     US|     USD|1243555740|      1243556121|1240963795| 1240966730|           18|           1|             |\n",
            "|kkst1913131122|Support casting m...|I m nearing compl...| 2000.0|support-casting-m...|     US|     USD|1243769880|      1243770317|1241177914| 1241180541|            1|           0|             |\n",
            "|kkst1085176748|        daily digest|I m a fledgling v...|  700.0|        daily-digest|     US|     USD|1243815600|      1243816219|1241050799| 1241464468|           14|           0|             |\n",
            "|kkst1468954715|iGoozex - Free iP...|I am an independe...|  250.0|igoozex-free-ipho...|     US|     USD|1243872000|      1243872028|1241725172| 1241736308|            2|           0|             |\n",
            "| kkst194050612|Drive A Faster Ca...|Drive A Faster Ca...| 1000.0|drive-a-faster-ca...|     US|     USD|1244088000|      1244088022|1241460541| 1241470291|           32|           1|             |\n",
            "| kkst708883590|\"\"\"\"\"\"\"\"\"\"\"\"\"\"\"\"\"...|Opening Friday  J...| 5000.0|lostles-at-tinys-...|     US|     USD|1244264400|      1244264422|1241415164| 1241480901|           44|           0|             |\n",
            "| kkst890976740|Choose Your Own A...|This project is f...| 3500.0|choose-your-own-a...|     US|     USD|1244946540|      1244946632|1242268157| 1242273460|           18|           0|             |\n",
            "|kkst2053381363|Anatomy of a Cred...|I am an independe...|30000.0|anatomy-of-a-cred...|     US|     USD|1245026160|      1245026721|1241829376| 1242056094|            7|           0|             |\n",
            "| kkst918550886|No-bit: An artist...|I want to create ...|  300.0|no-bit-an-artist-...|     US|     USD|1245038400|      1245038428|1242523061| 1242528805|            2|           0|             |\n",
            "| kkst934689279|Indie Nerd Board ...|pictured here is ...| 1500.0|indie-nerd-board-...|     US|     USD|1245042600|      1245042919|1242364202| 1242369560|           28|           1|             |\n",
            "| kkst191414809|Icons for your iP...|I make cool icons...|  500.0|awesome-icons-for...|     US|     USD|1245092400|      1245092431|1241034764| 1241039475|           98|           1|             |\n",
            "| kkst569584443|HAPPY VALLEY: Dex...|I am a profession...|  500.0|help-me-make-my-w...|     US|     USD|1245528660|      1245528920|1242072711| 1242333869|            3|           0|             |\n",
            "| kkst485555421|       Project Pedal|Project Pedal is ...| 1000.0|       project-pedal|     US|     USD|1245556740|      1245556829|1242682134| 1242690018|           20|           1|             |\n",
            "|kkst1537563608|Frank Magazine Er...|We are throwing a...|  600.0|frank-magazine-er...|     US|     USD|1245882360|      1245882631|1244579167| 1244742156|           12|           0|             |\n",
            "|kkst1261713500|  Crossword Puzzles!|I create crosswor...| 1500.0|   crossword-puzzles|     US|     USD|1246354320|      1246355121|1240997554| 1241005923|          163|           1|             |\n",
            "| kkst910550425|Run, Blago Run! Show|A 3-day pop-up ar...| 3500.0|  run-blago-run-show|     US|     USD|1246420800|      1246420854|1244299453| 1244388012|           54|           0|             |\n",
            "| kkst139451001|It Might Become a...|We are broke film...| 1000.0|it-might-become-a...|     US|     USD|1246420800|      1246420840|1243272026| 1243616180|           23|           1|             |\n",
            "+--------------+--------------------+--------------------+-------+--------------------+-------+--------+----------+----------------+----------+-----------+-------------+------------+-------------+\n",
            "only showing top 20 rows\n",
            "\n"
          ]
        }
      ]
    },
    {
      "cell_type": "code",
      "source": [
        "#groupBy\n",
        "#data_group = dfCasted.groupBy('disable_communication').count()\n",
        "#data_group.sort('count',ascending=False).show(10)"
      ],
      "metadata": {
        "id": "10UihO0oqohS"
      },
      "execution_count": 54,
      "outputs": []
    },
    {
      "cell_type": "code",
      "source": [
        "#groupBy(\"final_status\")\n",
        "data_group_final = dfCasted.groupBy('final_status').count()\n",
        "data_group_final.sort('count',ascending=False).show(10)"
      ],
      "metadata": {
        "colab": {
          "base_uri": "https://localhost:8080/"
        },
        "id": "R1VtASVlqsZ9",
        "outputId": "cf240e0e-ca1a-4090-adb0-b7d4e82fe82f"
      },
      "execution_count": 55,
      "outputs": [
        {
          "output_type": "stream",
          "name": "stdout",
          "text": [
            "+------------+-----+\n",
            "|final_status|count|\n",
            "+------------+-----+\n",
            "|           0|73266|\n",
            "|           1|34419|\n",
            "|           2|   20|\n",
            "|           3|   19|\n",
            "|           5|   17|\n",
            "|          11|   11|\n",
            "|          23|   10|\n",
            "|          22|   10|\n",
            "|          14|   10|\n",
            "|          18|   10|\n",
            "+------------+-----+\n",
            "only showing top 10 rows\n",
            "\n"
          ]
        }
      ]
    },
    {
      "cell_type": "markdown",
      "metadata": {
        "id": "FxcQoWu7_SrI"
      },
      "source": [
        "**Q9 - Houston, we have a problem ! We can see the future in our dataset ! Can you find it ? These informations must be removed.**\n",
        "\n",
        "*Hint : There are two problematic columns, it has something to do with the supporters, and a change during the project.*"
      ]
    },
    {
      "cell_type": "code",
      "execution_count": 56,
      "metadata": {
        "ExecuteTime": {
          "end_time": "2019-05-24T08:52:23.559663Z",
          "start_time": "2019-05-24T08:52:23.520082Z"
        },
        "colab": {
          "base_uri": "https://localhost:8080/"
        },
        "id": "GVm0sIRP_SrI",
        "outputId": "9100071b-b4b7-4c4b-e9a4-8e46b171e719"
      },
      "outputs": [
        {
          "output_type": "stream",
          "name": "stdout",
          "text": [
            "+--------------+--------------------+--------------------+-------+--------------------+-------+--------+----------+----------+-----------+------------+-------------+\n",
            "|    project_id|                name|                desc|   goal|            keywords|country|currency|  deadline|created_at|launched_at|final_status|communication|\n",
            "+--------------+--------------------+--------------------+-------+--------------------+-------+--------+----------+----------+-----------+------------+-------------+\n",
            "|kkst1451568084| drawing for dollars|I like drawing pi...|   20.0| drawing-for-dollars|     US|     USD|1241333999|1240600507| 1240602723|           1|             |\n",
            "|kkst1474482071|Sponsor Dereck Bl...|I  Dereck Blackbu...|  300.0|sponsor-dereck-bl...|     US|     USD|1242429000|1240960224| 1240975592|           0|             |\n",
            "| kkst183622197|       Mr. Squiggles|So I saw darkpony...|   30.0|        mr-squiggles|     US|     USD|1243027560|1242163613| 1242164398|           0|             |\n",
            "| kkst597742710|Help me write my ...|Do your part to h...|  500.0|help-me-write-my-...|     US|     USD|1243555740|1240963795| 1240966730|           1|             |\n",
            "|kkst1913131122|Support casting m...|I m nearing compl...| 2000.0|support-casting-m...|     US|     USD|1243769880|1241177914| 1241180541|           0|             |\n",
            "|kkst1085176748|        daily digest|I m a fledgling v...|  700.0|        daily-digest|     US|     USD|1243815600|1241050799| 1241464468|           0|             |\n",
            "|kkst1468954715|iGoozex - Free iP...|I am an independe...|  250.0|igoozex-free-ipho...|     US|     USD|1243872000|1241725172| 1241736308|           0|             |\n",
            "| kkst194050612|Drive A Faster Ca...|Drive A Faster Ca...| 1000.0|drive-a-faster-ca...|     US|     USD|1244088000|1241460541| 1241470291|           1|             |\n",
            "| kkst708883590|\"\"\"\"\"\"\"\"\"\"\"\"\"\"\"\"\"...|Opening Friday  J...| 5000.0|lostles-at-tinys-...|     US|     USD|1244264400|1241415164| 1241480901|           0|             |\n",
            "| kkst890976740|Choose Your Own A...|This project is f...| 3500.0|choose-your-own-a...|     US|     USD|1244946540|1242268157| 1242273460|           0|             |\n",
            "|kkst2053381363|Anatomy of a Cred...|I am an independe...|30000.0|anatomy-of-a-cred...|     US|     USD|1245026160|1241829376| 1242056094|           0|             |\n",
            "| kkst918550886|No-bit: An artist...|I want to create ...|  300.0|no-bit-an-artist-...|     US|     USD|1245038400|1242523061| 1242528805|           0|             |\n",
            "| kkst934689279|Indie Nerd Board ...|pictured here is ...| 1500.0|indie-nerd-board-...|     US|     USD|1245042600|1242364202| 1242369560|           1|             |\n",
            "| kkst191414809|Icons for your iP...|I make cool icons...|  500.0|awesome-icons-for...|     US|     USD|1245092400|1241034764| 1241039475|           1|             |\n",
            "| kkst569584443|HAPPY VALLEY: Dex...|I am a profession...|  500.0|help-me-make-my-w...|     US|     USD|1245528660|1242072711| 1242333869|           0|             |\n",
            "| kkst485555421|       Project Pedal|Project Pedal is ...| 1000.0|       project-pedal|     US|     USD|1245556740|1242682134| 1242690018|           1|             |\n",
            "|kkst1537563608|Frank Magazine Er...|We are throwing a...|  600.0|frank-magazine-er...|     US|     USD|1245882360|1244579167| 1244742156|           0|             |\n",
            "|kkst1261713500|  Crossword Puzzles!|I create crosswor...| 1500.0|   crossword-puzzles|     US|     USD|1246354320|1240997554| 1241005923|           1|             |\n",
            "| kkst910550425|Run, Blago Run! Show|A 3-day pop-up ar...| 3500.0|  run-blago-run-show|     US|     USD|1246420800|1244299453| 1244388012|           0|             |\n",
            "| kkst139451001|It Might Become a...|We are broke film...| 1000.0|it-might-become-a...|     US|     USD|1246420800|1243272026| 1243616180|           1|             |\n",
            "+--------------+--------------------+--------------------+-------+--------------------+-------+--------+----------+----------+-----------+------------+-------------+\n",
            "only showing top 20 rows\n",
            "\n"
          ]
        }
      ],
      "source": [
        "# TODO\n",
        "from pyspark.sql.functions import from_unixtime, to_date\n",
        "from pyspark.sql.types import DateType\n",
        "date_columns = ['deadline', 'created_at', 'launched_at']\n",
        "\n",
        "# Convert columns to date type\n",
        "dfCasted = dfCasted.drop('state_changed_at','backers_count')\n",
        "#for col_name in date_columns:\n",
        " #   if dfCasted.schema[col_name].dataType != DateType():\n",
        "  #    dfCasted_date = dfCasted.withColumn(col_name, to_date(from_unixtime(col(col_name))))\n",
        "dfCasted.show()\n",
        "#data_future = dfCasted.filter( (col(\"state_changed_at\") < col(\"created_at\")) | (col(\"state_changed_at\") < col(\"launched_at\"))| (col(\"launched_at\")< col(\"created_at\")))\n",
        "#data_future.show()\n",
        "#print(dfCasted.count())\n",
        "#print(data_future.count())\n",
        "#dfCasted = dfCasted.subtract(data_future)\n",
        "#print(dfCasted.count())"
      ]
    },
    {
      "cell_type": "markdown",
      "metadata": {
        "id": "aCNO-IxK_SrI"
      },
      "source": [
        "**Q10 - Country & Currency : Start with some exploration of these columns.**\n",
        "\n",
        "- Try some groupBy and counting, just like *Q8*. Then, read below.\n",
        "\n",
        "You may think that *country* and *currency* are redundant, in which case we could just delete one of the two columns. What about Euro ?"
      ]
    },
    {
      "cell_type": "code",
      "execution_count": 57,
      "metadata": {
        "ExecuteTime": {
          "end_time": "2019-05-24T08:54:45.422336Z",
          "start_time": "2019-05-24T08:54:44.247494Z"
        },
        "colab": {
          "base_uri": "https://localhost:8080/"
        },
        "id": "D_3xNRoM_SrI",
        "outputId": "485ed85c-a42b-4583-843b-1530e5566879"
      },
      "outputs": [
        {
          "output_type": "stream",
          "name": "stdout",
          "text": [
            "Country value count :\n",
            "+-------+-----+\n",
            "|country|count|\n",
            "+-------+-----+\n",
            "|     US|91545|\n",
            "|     GB| 8743|\n",
            "|     CA| 3733|\n",
            "|     AU| 1877|\n",
            "|     NL|  702|\n",
            "|  False|  428|\n",
            "|     NZ|  354|\n",
            "|     SE|  240|\n",
            "|     DK|  196|\n",
            "|     NO|  113|\n",
            "+-------+-----+\n",
            "only showing top 10 rows\n",
            "\n"
          ]
        }
      ],
      "source": [
        "# TODO : Country value count\n",
        "print(\"Country value count :\")\n",
        "data_group_country = dfCasted.groupBy('country').count()\n",
        "data_group_country.sort('count',ascending=False).show(10)\n"
      ]
    },
    {
      "cell_type": "code",
      "execution_count": 58,
      "metadata": {
        "ExecuteTime": {
          "end_time": "2019-05-24T08:54:36.206107Z",
          "start_time": "2019-05-24T08:54:35.227295Z"
        },
        "colab": {
          "base_uri": "https://localhost:8080/"
        },
        "id": "BUsXdtIx_SrI",
        "outputId": "fdd37d4b-7a9e-461d-df0e-4a7e02314f4b"
      },
      "outputs": [
        {
          "output_type": "stream",
          "name": "stdout",
          "text": [
            "Currency value count :\n",
            "+--------+-----+\n",
            "|currency|count|\n",
            "+--------+-----+\n",
            "|     USD|91545|\n",
            "|     GBP| 8743|\n",
            "|     CAD| 3733|\n",
            "|     AUD| 1877|\n",
            "|     EUR|  814|\n",
            "|      US|  406|\n",
            "|     NZD|  354|\n",
            "|     SEK|  240|\n",
            "|     DKK|  196|\n",
            "|     NOK|  113|\n",
            "+--------+-----+\n",
            "only showing top 10 rows\n",
            "\n"
          ]
        }
      ],
      "source": [
        "# TODO : Currency value count\n",
        "print(\"Currency value count :\")\n",
        "data_group_currency = dfCasted.groupBy('currency').count()\n",
        "data_group_currency.sort('count',ascending=False).show(10)"
      ]
    },
    {
      "cell_type": "markdown",
      "metadata": {
        "id": "YyvapAet_SrI"
      },
      "source": [
        "- Try selecting *goal* and *final_status*, and show some values."
      ]
    },
    {
      "cell_type": "code",
      "execution_count": 59,
      "metadata": {
        "ExecuteTime": {
          "end_time": "2019-05-24T08:57:34.730321Z",
          "start_time": "2019-05-24T08:57:34.598722Z"
        },
        "scrolled": true,
        "colab": {
          "base_uri": "https://localhost:8080/"
        },
        "id": "5S0h4ClJ_SrI",
        "outputId": "0dce3313-a5c4-4058-b725-d3da1a8a8a28"
      },
      "outputs": [
        {
          "output_type": "stream",
          "name": "stdout",
          "text": [
            "+-------+------------+\n",
            "|   goal|final_status|\n",
            "+-------+------------+\n",
            "|   20.0|           1|\n",
            "|  300.0|           0|\n",
            "|   30.0|           0|\n",
            "|  500.0|           1|\n",
            "| 2000.0|           0|\n",
            "|  700.0|           0|\n",
            "|  250.0|           0|\n",
            "| 1000.0|           1|\n",
            "| 5000.0|           0|\n",
            "| 3500.0|           0|\n",
            "|30000.0|           0|\n",
            "|  300.0|           0|\n",
            "| 1500.0|           1|\n",
            "|  500.0|           1|\n",
            "|  500.0|           0|\n",
            "| 1000.0|           1|\n",
            "|  600.0|           0|\n",
            "| 1500.0|           1|\n",
            "| 3500.0|           0|\n",
            "| 1000.0|           1|\n",
            "+-------+------------+\n",
            "only showing top 20 rows\n",
            "\n"
          ]
        }
      ],
      "source": [
        "# TODO\n",
        "data_exemple = dfCasted.select('goal','final_status')\n",
        "data_exemple.show()"
      ]
    },
    {
      "cell_type": "markdown",
      "metadata": {
        "id": "fgkQ6IuZ_SrI"
      },
      "source": [
        "- Try showing value count for country and currency in the same table."
      ]
    },
    {
      "cell_type": "code",
      "execution_count": 60,
      "metadata": {
        "ExecuteTime": {
          "end_time": "2019-05-24T08:58:03.016253Z",
          "start_time": "2019-05-24T08:58:01.752252Z"
        },
        "colab": {
          "base_uri": "https://localhost:8080/"
        },
        "id": "2O3evSKx_SrJ",
        "outputId": "6b9674e7-8636-4e1e-a45d-26ee34593f21"
      },
      "outputs": [
        {
          "output_type": "stream",
          "name": "stdout",
          "text": [
            "+--------------------+--------------------+-----+\n",
            "|             country|            currency|count|\n",
            "+--------------------+--------------------+-----+\n",
            "|                  US|                 USD|91545|\n",
            "|                  GB|                 GBP| 8743|\n",
            "|                  CA|                 CAD| 3733|\n",
            "|                  AU|                 AUD| 1877|\n",
            "|                  NL|                 EUR|  702|\n",
            "|               False|                  US|  405|\n",
            "|                  NZ|                 NZD|  354|\n",
            "|                  SE|                 SEK|  240|\n",
            "|                  DK|                 DKK|  196|\n",
            "|                  NO|                 NOK|  113|\n",
            "|                  IE|                 EUR|  111|\n",
            "|               False|                  GB|   13|\n",
            "|               False|                  AU|    3|\n",
            "|               False|                  CA|    3|\n",
            "|               False|                  NL|    2|\n",
            "|jack-chaps-dog-de...|               False|    1|\n",
            "|together-alone-th...|               False|    1|\n",
            "|instead-of-sleepi...|               False|    1|\n",
            "|              1500.0|the-arrangement-a...|    1|\n",
            "|hard-lick-sports-...|               False|    1|\n",
            "+--------------------+--------------------+-----+\n",
            "only showing top 20 rows\n",
            "\n"
          ]
        }
      ],
      "source": [
        "# TODO\n",
        "data_group_country_and_currency = dfCasted.groupBy('country','currency').count()\n",
        "data_group_country_and_currency.sort('count',ascending=False).show(20)"
      ]
    },
    {
      "cell_type": "markdown",
      "metadata": {
        "id": "HfxD7UVN_SrJ"
      },
      "source": [
        "**Q11 - Now, there is something else : Some values for *country* have the value *False*. Display these records, and groupBy *currency*, descending.**\n",
        "\n",
        "*Hint : The instruction chain is the following : dfCasted.filter().groupBy().count().orderBy().show(), fill 3 parentheses.*"
      ]
    },
    {
      "cell_type": "code",
      "execution_count": 61,
      "metadata": {
        "ExecuteTime": {
          "end_time": "2019-05-24T09:00:27.287483Z",
          "start_time": "2019-05-24T09:00:26.307833Z"
        },
        "colab": {
          "base_uri": "https://localhost:8080/"
        },
        "id": "P0MPWKjH_SrJ",
        "outputId": "407e26c2-bef0-48f2-8b4e-3865d3c25e41"
      },
      "outputs": [
        {
          "output_type": "stream",
          "name": "stdout",
          "text": [
            "Country value count :\n",
            "+--------+-----+\n",
            "|currency|count|\n",
            "+--------+-----+\n",
            "|      US|  405|\n",
            "|      GB|   13|\n",
            "|      AU|    3|\n",
            "|      CA|    3|\n",
            "|      NL|    2|\n",
            "|      NZ|    1|\n",
            "|      NO|    1|\n",
            "+--------+-----+\n",
            "\n"
          ]
        }
      ],
      "source": [
        "# TODO\n",
        "print(\"Country value count :\")\n",
        "dfCasted.filter(col(\"country\")=='False').groupBy('currency').count().sort('count',ascending=False).show()\n"
      ]
    },
    {
      "cell_type": "markdown",
      "metadata": {
        "id": "HDG7MaHY_SrJ"
      },
      "source": [
        "*Definition - Custom functions :* Some column operations are already defined inside Spark, but we often need to apply more complex or more custom function. In this case, we can create User Defined Functions (UDF) and apply them on columns.\n",
        "\n",
        "**Q12 - In this question, we will create two UDF.**\n",
        "- **udfCountry(country, currency)** : If country=False, take the currency value, else, leave the country value.\n",
        "- **udfCurrency(currency)** : If the length of currency is different than 3, assign a null value, else, leave the currency value."
      ]
    },
    {
      "cell_type": "code",
      "execution_count": 62,
      "metadata": {
        "ExecuteTime": {
          "end_time": "2019-05-24T09:12:38.443793Z",
          "start_time": "2019-05-24T09:12:38.423164Z"
        },
        "id": "M3EeLBtf_SrJ"
      },
      "outputs": [],
      "source": [
        "# Q12 - UDF\n",
        "\n",
        "# Convert the functions to Spark UDF types : udf(pythonFunction, outputType())\n",
        "\n",
        "import pyspark.sql.functions as F\n",
        "from pyspark.sql.types import *\n",
        "\n",
        "def fCountry(country, currency):\n",
        "  if country == 'False':\n",
        "    return currency\n",
        "  else:\n",
        "    return country\n",
        "\n",
        "def fCurrency(currency):\n",
        "  if len(currency) != 3:\n",
        "    return None\n",
        "  else:\n",
        "    return currency\n",
        "\n",
        "udf_country = F.udf(fCountry, StringType())\n",
        "udf_currency = F.udf(fCurrency, StringType())"
      ]
    },
    {
      "cell_type": "markdown",
      "metadata": {
        "id": "Ff7pV7Dx_SrJ"
      },
      "source": [
        "- BinaryType – Données binaires.\n",
        "- BooleanType – Valeurs booléennes.\n",
        "- ByteType – Valeur d'octet.\n",
        "- DateType – Valeur d'horodatage.\n",
        "- DoubleType – Valeur double à virgule flottante.\n",
        "- IntegerType – Valeur d'entier.\n",
        "- LongType – Valeur d'entier long.\n",
        "- NullType – Valeur null.\n",
        "- ShortType – Valeur d'entier court.\n",
        "- StringType – Chaîne de texte.\n",
        "- TimestampType – Valeur d'horodatage (généralement en secondes à partir du 01/01/1970).\n",
        "- UnknownType – Valeur de type non identifié."
      ]
    },
    {
      "cell_type": "markdown",
      "metadata": {
        "id": "nPsM6cqV_SrJ"
      },
      "source": [
        "**Q13 - In this question we will apply our two UDF. Using the .withColumn operation, you can change a column, just like you did for type casting. withColumn will create two new columns : country2 and currency2.**\n",
        "\n",
        "*Hint : df.withcolumn(country2, newColValue).withcolumn(currency2, newColValue)*\n",
        "\n",
        "Also, you can add a drop statement (on country and currency) after the two withColumns, as we have created our new columns.\n",
        "\n",
        "Check your dataframe once transformations are applied. Schema and first lines."
      ]
    },
    {
      "cell_type": "code",
      "execution_count": 63,
      "metadata": {
        "id": "XOeU043c_SrJ",
        "colab": {
          "base_uri": "https://localhost:8080/"
        },
        "outputId": "207a9416-cdfd-4f43-c91f-d9b3846a2323"
      },
      "outputs": [
        {
          "output_type": "stream",
          "name": "stdout",
          "text": [
            "+--------------+--------------------+--------------------+-------+--------------------+----------+----------+-----------+------------+-------------+--------+---------+\n",
            "|    project_id|                name|                desc|   goal|            keywords|  deadline|created_at|launched_at|final_status|communication|country2|currency2|\n",
            "+--------------+--------------------+--------------------+-------+--------------------+----------+----------+-----------+------------+-------------+--------+---------+\n",
            "|kkst1451568084| drawing for dollars|I like drawing pi...|   20.0| drawing-for-dollars|1241333999|1240600507| 1240602723|           1|             |      US|      USD|\n",
            "|kkst1474482071|Sponsor Dereck Bl...|I  Dereck Blackbu...|  300.0|sponsor-dereck-bl...|1242429000|1240960224| 1240975592|           0|             |      US|      USD|\n",
            "| kkst183622197|       Mr. Squiggles|So I saw darkpony...|   30.0|        mr-squiggles|1243027560|1242163613| 1242164398|           0|             |      US|      USD|\n",
            "| kkst597742710|Help me write my ...|Do your part to h...|  500.0|help-me-write-my-...|1243555740|1240963795| 1240966730|           1|             |      US|      USD|\n",
            "|kkst1913131122|Support casting m...|I m nearing compl...| 2000.0|support-casting-m...|1243769880|1241177914| 1241180541|           0|             |      US|      USD|\n",
            "|kkst1085176748|        daily digest|I m a fledgling v...|  700.0|        daily-digest|1243815600|1241050799| 1241464468|           0|             |      US|      USD|\n",
            "|kkst1468954715|iGoozex - Free iP...|I am an independe...|  250.0|igoozex-free-ipho...|1243872000|1241725172| 1241736308|           0|             |      US|      USD|\n",
            "| kkst194050612|Drive A Faster Ca...|Drive A Faster Ca...| 1000.0|drive-a-faster-ca...|1244088000|1241460541| 1241470291|           1|             |      US|      USD|\n",
            "| kkst708883590|\"\"\"\"\"\"\"\"\"\"\"\"\"\"\"\"\"...|Opening Friday  J...| 5000.0|lostles-at-tinys-...|1244264400|1241415164| 1241480901|           0|             |      US|      USD|\n",
            "| kkst890976740|Choose Your Own A...|This project is f...| 3500.0|choose-your-own-a...|1244946540|1242268157| 1242273460|           0|             |      US|      USD|\n",
            "|kkst2053381363|Anatomy of a Cred...|I am an independe...|30000.0|anatomy-of-a-cred...|1245026160|1241829376| 1242056094|           0|             |      US|      USD|\n",
            "| kkst918550886|No-bit: An artist...|I want to create ...|  300.0|no-bit-an-artist-...|1245038400|1242523061| 1242528805|           0|             |      US|      USD|\n",
            "| kkst934689279|Indie Nerd Board ...|pictured here is ...| 1500.0|indie-nerd-board-...|1245042600|1242364202| 1242369560|           1|             |      US|      USD|\n",
            "| kkst191414809|Icons for your iP...|I make cool icons...|  500.0|awesome-icons-for...|1245092400|1241034764| 1241039475|           1|             |      US|      USD|\n",
            "| kkst569584443|HAPPY VALLEY: Dex...|I am a profession...|  500.0|help-me-make-my-w...|1245528660|1242072711| 1242333869|           0|             |      US|      USD|\n",
            "| kkst485555421|       Project Pedal|Project Pedal is ...| 1000.0|       project-pedal|1245556740|1242682134| 1242690018|           1|             |      US|      USD|\n",
            "|kkst1537563608|Frank Magazine Er...|We are throwing a...|  600.0|frank-magazine-er...|1245882360|1244579167| 1244742156|           0|             |      US|      USD|\n",
            "|kkst1261713500|  Crossword Puzzles!|I create crosswor...| 1500.0|   crossword-puzzles|1246354320|1240997554| 1241005923|           1|             |      US|      USD|\n",
            "| kkst910550425|Run, Blago Run! Show|A 3-day pop-up ar...| 3500.0|  run-blago-run-show|1246420800|1244299453| 1244388012|           0|             |      US|      USD|\n",
            "| kkst139451001|It Might Become a...|We are broke film...| 1000.0|it-might-become-a...|1246420800|1243272026| 1243616180|           1|             |      US|      USD|\n",
            "+--------------+--------------------+--------------------+-------+--------------------+----------+----------+-----------+------------+-------------+--------+---------+\n",
            "only showing top 20 rows\n",
            "\n"
          ]
        }
      ],
      "source": [
        "# TODO\n",
        "dfCasted = dfCasted.withColumn(\"country2\", udf_country(col(\"country\"), col(\"currency\")))\n",
        "dfCasted = dfCasted.withColumn(\"currency2\", udf_currency(col(\"currency\")))\n",
        "dfCasted = dfCasted.drop(\"country\")\n",
        "dfCasted = dfCasted.drop(\"currency\")\n",
        "dfCasted.show()"
      ]
    },
    {
      "cell_type": "code",
      "source": [
        "dfCasted.printSchema()\n",
        "#select"
      ],
      "metadata": {
        "colab": {
          "base_uri": "https://localhost:8080/"
        },
        "id": "IBSHES6nXbPP",
        "outputId": "ea9d6557-6add-4480-97aa-a765d727859d"
      },
      "execution_count": 64,
      "outputs": [
        {
          "output_type": "stream",
          "name": "stdout",
          "text": [
            "root\n",
            " |-- project_id: string (nullable = true)\n",
            " |-- name: string (nullable = true)\n",
            " |-- desc: string (nullable = true)\n",
            " |-- goal: string (nullable = true)\n",
            " |-- keywords: string (nullable = true)\n",
            " |-- deadline: integer (nullable = true)\n",
            " |-- created_at: string (nullable = true)\n",
            " |-- launched_at: string (nullable = true)\n",
            " |-- final_status: integer (nullable = true)\n",
            " |-- communication: string (nullable = true)\n",
            " |-- country2: string (nullable = true)\n",
            " |-- currency2: string (nullable = true)\n",
            "\n"
          ]
        }
      ]
    },
    {
      "cell_type": "markdown",
      "metadata": {
        "id": "rOhFv8Ya_Sra"
      },
      "source": [
        "**Q14 - We will do one more cleanup on the column final_status**, which will be the label for our classification algorithm in next course.\n",
        "\n",
        "First, count the number of elements for each values in final_status.\n",
        "\n",
        "Finally, we need to delete records with **final_status** different than 0 or 1."
      ]
    },
    {
      "cell_type": "code",
      "execution_count": 65,
      "metadata": {
        "ExecuteTime": {
          "end_time": "2019-05-24T09:16:00.989530Z",
          "start_time": "2019-05-24T09:15:59.871903Z"
        },
        "colab": {
          "base_uri": "https://localhost:8080/"
        },
        "id": "huccU1PZ_Sra",
        "outputId": "14aa39b0-aeea-445d-afe3-6a9b714066fc"
      },
      "outputs": [
        {
          "output_type": "stream",
          "name": "stdout",
          "text": [
            "+------------+-----+\n",
            "|final_status|count|\n",
            "+------------+-----+\n",
            "|           0|73266|\n",
            "|           1|34419|\n",
            "|           2|   20|\n",
            "|           3|   19|\n",
            "|           5|   17|\n",
            "|          11|   11|\n",
            "|          23|   10|\n",
            "|          22|   10|\n",
            "|          14|   10|\n",
            "|          18|   10|\n",
            "+------------+-----+\n",
            "only showing top 10 rows\n",
            "\n"
          ]
        }
      ],
      "source": [
        "# TODO : final_status count\n",
        "data_group_final.sort('count',ascending=False).show(10)"
      ]
    },
    {
      "cell_type": "code",
      "execution_count": 66,
      "metadata": {
        "ExecuteTime": {
          "end_time": "2019-05-24T09:23:41.623679Z",
          "start_time": "2019-05-24T09:23:41.603265Z"
        },
        "id": "H9YTQ_hZ_Sra",
        "colab": {
          "base_uri": "https://localhost:8080/"
        },
        "outputId": "079bfc8d-608b-4140-b4b0-d5ec6a6771bd"
      },
      "outputs": [
        {
          "output_type": "stream",
          "name": "stdout",
          "text": [
            "+--------------+--------------------+--------------------+--------------------+--------------------+--------+----------+-----------+------------+--------------------+--------------------+---------+\n",
            "|    project_id|                name|                desc|                goal|            keywords|deadline|created_at|launched_at|final_status|       communication|            country2|currency2|\n",
            "+--------------+--------------------+--------------------+--------------------+--------------------+--------+----------+-----------+------------+--------------------+--------------------+---------+\n",
            "|kkst1238420601|\"\"\"\"\"\"\"\"\"\"\"\"\"\"\"\"\"...| With Math\"\"\"\"\"\"\"...|Make an award-win...|              324.29|    NULL|1256965209| 1253974231|          41|regret-with-math-...|                  US|     NULL|\n",
            "|kkst1177360187|\"\"\"\"\"\"\"\"\"\"\"\"\"\"\"\"\"...| Tomorrow the Wor...|Help me in develo...|              7000.0|    NULL|1260292509| 1254520959|          79|today-new-york-to...|                  US|     NULL|\n",
            "|kkst1036339289|\"\"\"\"\"\"\"\"\"\"\"\"\"\"\"\"\"...|\"\"\"\"\"\"\"\"\"\"\"\"\"\"\"\"\"...|Cartoonist Stepha...|              6000.0|    NULL|1265043608| 1258383195|          56|mischief-in-the-f...|                  US|     NULL|\n",
            "|kkst1740370592|\"Finish the Terri...| the Thing from V...|Terrible Spaceshi...|              2000.0|    NULL|1266694207| 1264101912|           3|finish-the-terrib...|                  US|     NULL|\n",
            "|kkst1253552714|\"\"\"\"\"\"\"\"\"\"\"\"\"\"\"\"\"...| a horror comedy ...| BUGBABY  is a sh...|              7000.0|    NULL|1266739210| 1264191686|          49|bugbaby-a-horror-...|                  US|     NULL|\n",
            "|kkst1948156939|\"Garrick Davis & ...|               NOW!\"|A soaring  cohesi...|              8000.0|    NULL|1267430408| 1258191165|           7|garrick-davis-and...|                  US|     NULL|\n",
            "|kkst1785589261|\"ROSLER'S RECORDI...| songs long overd...|8 formidable arti...|              5500.0|    NULL|1270455308| 1259588411|         138|roslers-recording...|                  US|     NULL|\n",
            "| kkst711802576|\"\"\"\"\"\"\"\"\"\"\"\"\"\"\"\"\"...| the Story of a F...|I am writing and ...|             10000.0|    NULL|1272679207| 1264943193|           2|clawdette-the-cat...|                  US|     NULL|\n",
            "|kkst2110038800|\"\"\"\"\"\"\"\"\"\"\"\"\"\"\"\"\"...|      nature artist\"|Cathy Harville is...|              2500.0|    NULL|1274720429| 1267019712|          14|when-land-meets-t...|                  US|     NULL|\n",
            "|kkst1804316414|\"\"\"\"\"\"\"\"\"\"\"\"\"\"\"\"\"...| Directed by Roby...|This is a film th...|              6500.0|    NULL|1275201907| 1267922093|         218|the-squad-directe...|                  US|     NULL|\n",
            "|kkst1380305774|\"\"\"\"\"\"\"\"\"\"\"\"\"\"\"\"\"...| A Feature Film P...|Help Palmer Stanf...|              2500.0|    NULL|1275564607| 1271879723|           5|ignoring-the-worl...|                  US|     NULL|\n",
            "|kkst1942534869|\"\"\"\"\"\"\"\"\"\"\"\"\"\"\"\"\"...| \"\"\"\"\"\"\"\"\"\"\"\"\"\"\"\"...|A loving young fa...|              3000.0|    NULL|1275732010| 1267980954|          58|family-time-a-sho...|                  US|     NULL|\n",
            "| kkst591524037|\"Let's release \"\"...| Feels Like a Dro...|Preacher s Sons i...|              1000.0|    NULL|1276657212| 1269299674|          51|lets-release-look...|                  US|     NULL|\n",
            "|kkst1321717223|\"\"\"\"\"\"\"\"\"\"\"\"\"\"\"\"\"...| psychological th...|When a history te...|             10000.0|    NULL|1277367307| 1271885570|          22|safe-feature-film...|                  US|     NULL|\n",
            "|kkst1992301307|\"A new translatio...|           Amos Poe\"|A meditation on w...|             12000.0|    NULL|1277747110| 1269512763|         247|a-new-translation...|                  US|     NULL|\n",
            "|kkst1467689349|\"\"\"\"\"\"\"\"\"\"\"\"\"\"\"\"\"...|\"\"\"\"\"\"\"\"\"\"\"\"\"\"\"\"\"...|At the peak of th...|              2500.0|    NULL|1280060107| 1266640891|          41|two-in-a-million-...|                  US|     NULL|\n",
            "| kkst133168173|\"Norcio to record...|        John Mayer)\"|Norcio is recordi...|              5000.0|    NULL|1280397607| 1274098496|           2|norcio-to-record-...|                  US|     NULL|\n",
            "| kkst583640206|\"VGA Planets \"\"\"\"...| the official rem...|VGA Planets  Nu  ...|             10000.0|    NULL|1280502008| 1274370326|          35|vga-planets-nu-th...|                  US|     NULL|\n",
            "|kkst1864498761|\"\"\"\"\"\"\"\"\"\"\"\"\"\"\"\"\"...| a Graduate Thesi...|What if the great...|              1200.0|    NULL|1280505615| 1278171244|          14|moments-a-graduat...|                  US|     NULL|\n",
            "|kkst1514722958|\"Feature Film \"\"\"...|                SyFy|         Thriller- \"|5 Best friends go...|    NULL|1280721540| 1280721617|  1275970426|             15000.0|feature-film-some...|     NULL|\n",
            "+--------------+--------------------+--------------------+--------------------+--------------------+--------+----------+-----------+------------+--------------------+--------------------+---------+\n",
            "only showing top 20 rows\n",
            "\n",
            "Count after filtering :  443\n",
            "108128\n"
          ]
        }
      ],
      "source": [
        "# TODO : filter\n",
        "data_final_status = dfCasted.filter((~col(\"final_status\").isin([0,1])) )\n",
        "data_final_status.show()\n",
        "print(\"Count after filtering : \", str(data_final_status.count()))\n",
        "print(dfCasted.count())\n"
      ]
    },
    {
      "cell_type": "code",
      "execution_count": 67,
      "metadata": {
        "ExecuteTime": {
          "end_time": "2019-05-24T09:23:45.598338Z",
          "start_time": "2019-05-24T09:23:44.718137Z"
        },
        "colab": {
          "base_uri": "https://localhost:8080/"
        },
        "id": "gq7lTmKI_Sra",
        "outputId": "c8ca75cc-0a6d-40f8-8acf-3841b14d0c7a"
      },
      "outputs": [
        {
          "output_type": "stream",
          "name": "stdout",
          "text": [
            "+--------------+--------------------+--------------------+-------+--------------------+----------+----------+-----------+------------+-------------+--------+---------+\n",
            "|    project_id|                name|                desc|   goal|            keywords|  deadline|created_at|launched_at|final_status|communication|country2|currency2|\n",
            "+--------------+--------------------+--------------------+-------+--------------------+----------+----------+-----------+------------+-------------+--------+---------+\n",
            "| kkst953076619|Julie Slick: Terr...|Hey! I m making m...| 6000.0|julie-slick-terro...|1326899325|1322853193| 1323443325|           1|             |      US|      USD|\n",
            "| kkst208957596|Saving the Honey ...|Saving the Honey ...|12000.0|saving-the-honey-...|1294613985|1287188427| 1289429985|           0|             |      US|      USD|\n",
            "|kkst1065748931|Let's get physica...|Turn two years of...| 2250.0|lets-get-physical...|1296446328|1289144918| 1290743928|           1|             |      US|      USD|\n",
            "|kkst1410424018|Suddenly: My stor...|The personal stor...| 8000.0|suddenly-my-story...|1384697918|1382965154| 1383398318|           0|             |      US|      USD|\n",
            "|kkst1865702072|Jacqueline Hairst...|A fundraiser for ...| 3000.0|jacqueline-hairst...|1323196788|1318006886| 1318009188|           0|             |      US|      USD|\n",
            "| kkst621184226|Pally Smart Finde...|Pally Smart Finde...| 5000.0|pally-smart-finde...|1399037265|1387219208| 1396445265|           0|             |      CA|      CAD|\n",
            "|  kkst41576169|Center for Contem...|Center for Contem...|10000.0|center-for-contem...|1313285569|1310395331| 1310693569|           0|             |      US|      USD|\n",
            "| kkst256509435|Be My Doppelgange...|We recorded our 3...| 5500.0|be-my-doppelgange...|1345154709|1340067190| 1342562709|           1|             |      US|      USD|\n",
            "|kkst1714365172|\"Will Goble's Fir...|Help me complete ...| 2200.0|will-gobles-first...|1315154521|1303766467| 1311698521|           1|             |      US|      USD|\n",
            "|kkst2122569186|  Observium Alerting|Adding alerting i...| 5000.0|  observium-alerting|1369467819|1366071719| 1366875819|           1|             |      GB|      GBP|\n",
            "| kkst457461729|Viticulture: The ...|Viticulture is a ...|25000.0|viticulture-the-s...|1349672340|1343797509| 1345779846|           1|             |      US|      USD|\n",
            "| kkst334120552|Inevitable: dysto...|Violence!  Betray...| 3000.0|inevitable-dystop...|1275408060|1267636201| 1267729972|           1|             |      US|      USD|\n",
            "| kkst484890102|Poems on the big ...|A poetry ... scre...|15000.0|poems-on-the-big-...|1308057214|1304955598| 1305465214|           1|             |      US|      USD|\n",
            "|kkst1828171845|The Broken Contin...|Join us on our jo...|10000.0|the-broken-contin...|1356757140|1353723436| 1354134999|           1|             |      US|      USD|\n",
            "| kkst545324025|Post Production f...|In a woman s shel...| 1000.0|post-production-f...|1325879011|1319939677| 1321991011|           0|             |      US|      USD|\n",
            "|kkst1736167270|PERMACRUSH'S NEW ...|We are getting se...| 5000.0|permacrushs-new-5...|1346270558|1343199514| 1343678558|           0|             |      US|      USD|\n",
            "| kkst902460881|GIRL//FRIEND - A ...|When Luna suspect...| 2500.0|girl-friend-a-sho...|1374080400|1372210187| 1372720723|           1|             |      US|      USD|\n",
            "| kkst821993116|Get A Hero's Fate...|We ve got some bi...| 5000.0|get-a-heros-fate-...|1301901746|1299558611| 1299572546|           1|             |      US|      USD|\n",
            "| kkst417945739|Third Annual Geor...|Georgian Cultural...| 8200.0|third-annual-geor...|1397840635|1391723956| 1392660235|           0|             |      US|      USD|\n",
            "| kkst773888497|Art Over Wheels: ...|An Awesome  ArtMo...|11100.0|art-over-wheels-t...|1341971324|1338597990| 1339379324|           0|             |      US|      USD|\n",
            "+--------------+--------------------+--------------------+-------+--------------------+----------+----------+-----------+------------+-------------+--------+---------+\n",
            "only showing top 20 rows\n",
            "\n"
          ]
        }
      ],
      "source": [
        "# TODO : Check processing\n",
        "dfCasted = dfCasted.subtract(data_final_status)\n",
        "dfCasted.show()"
      ]
    },
    {
      "cell_type": "markdown",
      "metadata": {
        "id": "ZKTmsLQ9_Sra"
      },
      "source": [
        "## Feature engineering\n",
        "\n",
        "It's sometimes useful to add features to our dataframe, to help our model learning. We will work with the time data.\n",
        "\n",
        "**Q15 - Our dates columns are in unix timestamps. We first need to convert them to dates.**"
      ]
    },
    {
      "cell_type": "code",
      "execution_count": 68,
      "metadata": {
        "ExecuteTime": {
          "end_time": "2019-05-24T10:19:23.071035Z",
          "start_time": "2019-05-24T10:19:22.782920Z"
        },
        "colab": {
          "base_uri": "https://localhost:8080/"
        },
        "id": "W2Ahn6XY_Sra",
        "outputId": "b2a41840-b010-4bdf-85ac-aec13c29b772"
      },
      "outputs": [
        {
          "output_type": "stream",
          "name": "stdout",
          "text": [
            "+--------------+--------------------+--------------------+-------+--------------------+----------+----------+-----------+------------+-------------+--------+---------+\n",
            "|    project_id|                name|                desc|   goal|            keywords|  deadline|created_at|launched_at|final_status|communication|country2|currency2|\n",
            "+--------------+--------------------+--------------------+-------+--------------------+----------+----------+-----------+------------+-------------+--------+---------+\n",
            "| kkst953076619|Julie Slick: Terr...|Hey! I m making m...| 6000.0|julie-slick-terro...|2012-01-18|2011-12-02| 2011-12-09|           1|             |      US|      USD|\n",
            "| kkst208957596|Saving the Honey ...|Saving the Honey ...|12000.0|saving-the-honey-...|2011-01-09|2010-10-16| 2010-11-10|           0|             |      US|      USD|\n",
            "|kkst1065748931|Let's get physica...|Turn two years of...| 2250.0|lets-get-physical...|2011-01-31|2010-11-07| 2010-11-26|           1|             |      US|      USD|\n",
            "|kkst1410424018|Suddenly: My stor...|The personal stor...| 8000.0|suddenly-my-story...|2013-11-17|2013-10-28| 2013-11-02|           0|             |      US|      USD|\n",
            "|kkst1865702072|Jacqueline Hairst...|A fundraiser for ...| 3000.0|jacqueline-hairst...|2011-12-06|2011-10-07| 2011-10-07|           0|             |      US|      USD|\n",
            "| kkst621184226|Pally Smart Finde...|Pally Smart Finde...| 5000.0|pally-smart-finde...|2014-05-02|2013-12-16| 2014-04-02|           0|             |      CA|      CAD|\n",
            "|  kkst41576169|Center for Contem...|Center for Contem...|10000.0|center-for-contem...|2011-08-14|2011-07-11| 2011-07-15|           0|             |      US|      USD|\n",
            "| kkst256509435|Be My Doppelgange...|We recorded our 3...| 5500.0|be-my-doppelgange...|2012-08-16|2012-06-19| 2012-07-17|           1|             |      US|      USD|\n",
            "|kkst1714365172|\"Will Goble's Fir...|Help me complete ...| 2200.0|will-gobles-first...|2011-09-04|2011-04-25| 2011-07-26|           1|             |      US|      USD|\n",
            "|kkst2122569186|  Observium Alerting|Adding alerting i...| 5000.0|  observium-alerting|2013-05-25|2013-04-16| 2013-04-25|           1|             |      GB|      GBP|\n",
            "| kkst457461729|Viticulture: The ...|Viticulture is a ...|25000.0|viticulture-the-s...|2012-10-08|2012-08-01| 2012-08-24|           1|             |      US|      USD|\n",
            "| kkst334120552|Inevitable: dysto...|Violence!  Betray...| 3000.0|inevitable-dystop...|2010-06-01|2010-03-03| 2010-03-04|           1|             |      US|      USD|\n",
            "| kkst484890102|Poems on the big ...|A poetry ... scre...|15000.0|poems-on-the-big-...|2011-06-14|2011-05-09| 2011-05-15|           1|             |      US|      USD|\n",
            "|kkst1828171845|The Broken Contin...|Join us on our jo...|10000.0|the-broken-contin...|2012-12-29|2012-11-24| 2012-11-28|           1|             |      US|      USD|\n",
            "| kkst545324025|Post Production f...|In a woman s shel...| 1000.0|post-production-f...|2012-01-06|2011-10-30| 2011-11-22|           0|             |      US|      USD|\n",
            "|kkst1736167270|PERMACRUSH'S NEW ...|We are getting se...| 5000.0|permacrushs-new-5...|2012-08-29|2012-07-25| 2012-07-30|           0|             |      US|      USD|\n",
            "| kkst902460881|GIRL//FRIEND - A ...|When Luna suspect...| 2500.0|girl-friend-a-sho...|2013-07-17|2013-06-26| 2013-07-01|           1|             |      US|      USD|\n",
            "| kkst821993116|Get A Hero's Fate...|We ve got some bi...| 5000.0|get-a-heros-fate-...|2011-04-04|2011-03-08| 2011-03-08|           1|             |      US|      USD|\n",
            "| kkst417945739|Third Annual Geor...|Georgian Cultural...| 8200.0|third-annual-geor...|2014-04-18|2014-02-06| 2014-02-17|           0|             |      US|      USD|\n",
            "| kkst773888497|Art Over Wheels: ...|An Awesome  ArtMo...|11100.0|art-over-wheels-t...|2012-07-11|2012-06-02| 2012-06-11|           0|             |      US|      USD|\n",
            "+--------------+--------------------+--------------------+-------+--------------------+----------+----------+-----------+------------+-------------+--------+---------+\n",
            "only showing top 20 rows\n",
            "\n"
          ]
        }
      ],
      "source": [
        "# TODO\n",
        "import time\n",
        "from pyspark.sql.functions import datediff, to_date, from_unixtime\n",
        "\n",
        "date_columns = ['deadline', 'created_at', 'launched_at']\n",
        "\n",
        "# Convert columns to date type\n",
        "for col_name in date_columns:\n",
        "    if dfCasted.schema[col_name].dataType != DateType():\n",
        "      dfCasted = dfCasted.withColumn(col_name, to_date(from_unixtime(col(col_name))))\n",
        "dfCasted.show()"
      ]
    },
    {
      "cell_type": "markdown",
      "source": [],
      "metadata": {
        "id": "UhcKH1SKI58h"
      }
    },
    {
      "cell_type": "markdown",
      "metadata": {
        "id": "9rVZ0jIN_Sra"
      },
      "source": [
        "**Q16 - Add a **days_campaign** column, which represents the duration of the campaign, in days. This is the difference between *launched_at* and *deadline*. Here we work with a date difference.**\n",
        "\n",
        "Add a **hours_prep**, which represents the number of hours of preparation. This is the difference between *created_at* and *launched_at*. You may round to 2 digits after comma. Here we work with a timestamp difference.\n",
        "\n",
        "Finally, apply a filter : we want to delete records with **days_campaign** AND **hours_prep** equal to zero, and we want the records with **goal** greater than zero"
      ]
    },
    {
      "cell_type": "code",
      "execution_count": 69,
      "metadata": {
        "ExecuteTime": {
          "end_time": "2019-05-24T10:29:43.174499Z",
          "start_time": "2019-05-24T10:29:41.798121Z"
        },
        "colab": {
          "base_uri": "https://localhost:8080/"
        },
        "id": "a1p-aW92_Sra",
        "outputId": "bc087c8a-9b90-4757-d7fa-a11140f8eeb3"
      },
      "outputs": [
        {
          "output_type": "stream",
          "name": "stdout",
          "text": [
            "+--------------+--------------------+--------------------+-------+--------------------+----------+----------+-----------+------------+-------------+--------+---------+-------------+----------+\n",
            "|    project_id|                name|                desc|   goal|            keywords|  deadline|created_at|launched_at|final_status|communication|country2|currency2|days_campaign|hours_prep|\n",
            "+--------------+--------------------+--------------------+-------+--------------------+----------+----------+-----------+------------+-------------+--------+---------+-------------+----------+\n",
            "| kkst953076619|Julie Slick: Terr...|Hey! I m making m...| 6000.0|julie-slick-terro...|2012-01-18|2011-12-02| 2011-12-09|           1|             |      US|      USD|           40|     168.0|\n",
            "| kkst208957596|Saving the Honey ...|Saving the Honey ...|12000.0|saving-the-honey-...|2011-01-09|2010-10-16| 2010-11-10|           0|             |      US|      USD|           60|     600.0|\n",
            "|kkst1065748931|Let's get physica...|Turn two years of...| 2250.0|lets-get-physical...|2011-01-31|2010-11-07| 2010-11-26|           1|             |      US|      USD|           66|     456.0|\n",
            "|kkst1410424018|Suddenly: My stor...|The personal stor...| 8000.0|suddenly-my-story...|2013-11-17|2013-10-28| 2013-11-02|           0|             |      US|      USD|           15|     120.0|\n",
            "|kkst1865702072|Jacqueline Hairst...|A fundraiser for ...| 3000.0|jacqueline-hairst...|2011-12-06|2011-10-07| 2011-10-07|           0|             |      US|      USD|           60|       0.0|\n",
            "| kkst621184226|Pally Smart Finde...|Pally Smart Finde...| 5000.0|pally-smart-finde...|2014-05-02|2013-12-16| 2014-04-02|           0|             |      CA|      CAD|           30|    2568.0|\n",
            "|  kkst41576169|Center for Contem...|Center for Contem...|10000.0|center-for-contem...|2011-08-14|2011-07-11| 2011-07-15|           0|             |      US|      USD|           30|      96.0|\n",
            "| kkst256509435|Be My Doppelgange...|We recorded our 3...| 5500.0|be-my-doppelgange...|2012-08-16|2012-06-19| 2012-07-17|           1|             |      US|      USD|           30|     672.0|\n",
            "|kkst1714365172|\"Will Goble's Fir...|Help me complete ...| 2200.0|will-gobles-first...|2011-09-04|2011-04-25| 2011-07-26|           1|             |      US|      USD|           40|    2208.0|\n",
            "|kkst2122569186|  Observium Alerting|Adding alerting i...| 5000.0|  observium-alerting|2013-05-25|2013-04-16| 2013-04-25|           1|             |      GB|      GBP|           30|     216.0|\n",
            "| kkst457461729|Viticulture: The ...|Viticulture is a ...|25000.0|viticulture-the-s...|2012-10-08|2012-08-01| 2012-08-24|           1|             |      US|      USD|           45|     552.0|\n",
            "| kkst334120552|Inevitable: dysto...|Violence!  Betray...| 3000.0|inevitable-dystop...|2010-06-01|2010-03-03| 2010-03-04|           1|             |      US|      USD|           89|      24.0|\n",
            "| kkst484890102|Poems on the big ...|A poetry ... scre...|15000.0|poems-on-the-big-...|2011-06-14|2011-05-09| 2011-05-15|           1|             |      US|      USD|           30|     144.0|\n",
            "|kkst1828171845|The Broken Contin...|Join us on our jo...|10000.0|the-broken-contin...|2012-12-29|2012-11-24| 2012-11-28|           1|             |      US|      USD|           31|      96.0|\n",
            "| kkst545324025|Post Production f...|In a woman s shel...| 1000.0|post-production-f...|2012-01-06|2011-10-30| 2011-11-22|           0|             |      US|      USD|           45|     552.0|\n",
            "|kkst1736167270|PERMACRUSH'S NEW ...|We are getting se...| 5000.0|permacrushs-new-5...|2012-08-29|2012-07-25| 2012-07-30|           0|             |      US|      USD|           30|     120.0|\n",
            "| kkst902460881|GIRL//FRIEND - A ...|When Luna suspect...| 2500.0|girl-friend-a-sho...|2013-07-17|2013-06-26| 2013-07-01|           1|             |      US|      USD|           16|     120.0|\n",
            "| kkst821993116|Get A Hero's Fate...|We ve got some bi...| 5000.0|get-a-heros-fate-...|2011-04-04|2011-03-08| 2011-03-08|           1|             |      US|      USD|           27|       0.0|\n",
            "| kkst417945739|Third Annual Geor...|Georgian Cultural...| 8200.0|third-annual-geor...|2014-04-18|2014-02-06| 2014-02-17|           0|             |      US|      USD|           60|     264.0|\n",
            "| kkst773888497|Art Over Wheels: ...|An Awesome  ArtMo...|11100.0|art-over-wheels-t...|2012-07-11|2012-06-02| 2012-06-11|           0|             |      US|      USD|           30|     216.0|\n",
            "+--------------+--------------------+--------------------+-------+--------------------+----------+----------+-----------+------------+-------------+--------+---------+-------------+----------+\n",
            "only showing top 20 rows\n",
            "\n"
          ]
        }
      ],
      "source": [
        "from pyspark.sql.functions import round, datediff,round, unix_timestamp, col\n",
        "\n",
        "dfCasted = dfCasted.withColumn(\"days_campaign\", datediff(col(\"deadline\"), col(\"launched_at\")))\n",
        "\n",
        "dfCasted = dfCasted.withColumn(\"hours_prep\", round((unix_timestamp(col(\"launched_at\")) - unix_timestamp(col(\"created_at\"))) / 3600, 2))\n",
        "\n",
        "dfCasted = dfCasted.filter((col(\"days_campaign\") > 0) | (col(\"hours_prep\") > 0))\n",
        "\n",
        "dfCasted = dfCasted.filter(col(\"goal\") > 0)\n",
        "\n",
        "dfCasted.show()\n"
      ]
    },
    {
      "cell_type": "code",
      "execution_count": 70,
      "metadata": {
        "ExecuteTime": {
          "end_time": "2019-05-24T10:31:15.124747Z",
          "start_time": "2019-05-24T10:31:14.897901Z"
        },
        "scrolled": true,
        "id": "ZQ8M2iod_Srb"
      },
      "outputs": [],
      "source": [
        "# TODO : Filter\n"
      ]
    },
    {
      "cell_type": "markdown",
      "metadata": {
        "id": "eO3Fm4lQ_Srb"
      },
      "source": [
        "**Q17 - At this point, we don't need these columns anymore : *created_at*, *launched_at*, *deadline*.**"
      ]
    },
    {
      "cell_type": "code",
      "execution_count": 71,
      "metadata": {
        "ExecuteTime": {
          "end_time": "2019-05-24T10:31:15.467978Z",
          "start_time": "2019-05-24T10:31:15.449766Z"
        },
        "id": "wohzuOop_Srb"
      },
      "outputs": [],
      "source": [
        "# TODO : Drops\n",
        "dfCasted = dfCasted.drop(\"created_at\", \"launched_at\", \"deadline\")"
      ]
    },
    {
      "cell_type": "markdown",
      "metadata": {
        "id": "CHpQtGSi_Srb"
      },
      "source": [
        "We will now work on text data, we will gather every text values into one.\n",
        "\n",
        "**Q18 - Pass the columns *name*, *desc* and *keywords* into lowercase.**"
      ]
    },
    {
      "cell_type": "code",
      "execution_count": 72,
      "metadata": {
        "ExecuteTime": {
          "end_time": "2019-05-24T10:31:16.088184Z",
          "start_time": "2019-05-24T10:31:16.054039Z"
        },
        "id": "kjwrE5Z4_Srb",
        "colab": {
          "base_uri": "https://localhost:8080/"
        },
        "outputId": "f69a2283-454c-467a-b062-02202e4e9cf9"
      },
      "outputs": [
        {
          "output_type": "stream",
          "name": "stdout",
          "text": [
            "+--------------+--------------------+--------------------+-------+--------------------+------------+-------------+--------+---------+-------------+----------+\n",
            "|    project_id|                name|                desc|   goal|            keywords|final_status|communication|country2|currency2|days_campaign|hours_prep|\n",
            "+--------------+--------------------+--------------------+-------+--------------------+------------+-------------+--------+---------+-------------+----------+\n",
            "| kkst953076619|julie slick: terr...|hey! i m making m...| 6000.0|julie-slick-terro...|           1|             |      US|      USD|           40|     168.0|\n",
            "| kkst208957596|saving the honey ...|saving the honey ...|12000.0|saving-the-honey-...|           0|             |      US|      USD|           60|     600.0|\n",
            "|kkst1065748931|let's get physica...|turn two years of...| 2250.0|lets-get-physical...|           1|             |      US|      USD|           66|     456.0|\n",
            "|kkst1410424018|suddenly: my stor...|the personal stor...| 8000.0|suddenly-my-story...|           0|             |      US|      USD|           15|     120.0|\n",
            "|kkst1865702072|jacqueline hairst...|a fundraiser for ...| 3000.0|jacqueline-hairst...|           0|             |      US|      USD|           60|       0.0|\n",
            "| kkst621184226|pally smart finde...|pally smart finde...| 5000.0|pally-smart-finde...|           0|             |      CA|      CAD|           30|    2568.0|\n",
            "|  kkst41576169|center for contem...|center for contem...|10000.0|center-for-contem...|           0|             |      US|      USD|           30|      96.0|\n",
            "| kkst256509435|be my doppelgange...|we recorded our 3...| 5500.0|be-my-doppelgange...|           1|             |      US|      USD|           30|     672.0|\n",
            "|kkst1714365172|\"will goble's fir...|help me complete ...| 2200.0|will-gobles-first...|           1|             |      US|      USD|           40|    2208.0|\n",
            "|kkst2122569186|  observium alerting|adding alerting i...| 5000.0|  observium-alerting|           1|             |      GB|      GBP|           30|     216.0|\n",
            "| kkst457461729|viticulture: the ...|viticulture is a ...|25000.0|viticulture-the-s...|           1|             |      US|      USD|           45|     552.0|\n",
            "| kkst334120552|inevitable: dysto...|violence!  betray...| 3000.0|inevitable-dystop...|           1|             |      US|      USD|           89|      24.0|\n",
            "| kkst484890102|poems on the big ...|a poetry ... scre...|15000.0|poems-on-the-big-...|           1|             |      US|      USD|           30|     144.0|\n",
            "|kkst1828171845|the broken contin...|join us on our jo...|10000.0|the-broken-contin...|           1|             |      US|      USD|           31|      96.0|\n",
            "| kkst545324025|post production f...|in a woman s shel...| 1000.0|post-production-f...|           0|             |      US|      USD|           45|     552.0|\n",
            "|kkst1736167270|permacrush's new ...|we are getting se...| 5000.0|permacrushs-new-5...|           0|             |      US|      USD|           30|     120.0|\n",
            "| kkst902460881|girl//friend - a ...|when luna suspect...| 2500.0|girl-friend-a-sho...|           1|             |      US|      USD|           16|     120.0|\n",
            "| kkst821993116|get a hero's fate...|we ve got some bi...| 5000.0|get-a-heros-fate-...|           1|             |      US|      USD|           27|       0.0|\n",
            "| kkst417945739|third annual geor...|georgian cultural...| 8200.0|third-annual-geor...|           0|             |      US|      USD|           60|     264.0|\n",
            "| kkst773888497|art over wheels: ...|an awesome  artmo...|11100.0|art-over-wheels-t...|           0|             |      US|      USD|           30|     216.0|\n",
            "+--------------+--------------------+--------------------+-------+--------------------+------------+-------------+--------+---------+-------------+----------+\n",
            "only showing top 20 rows\n",
            "\n"
          ]
        }
      ],
      "source": [
        "\n",
        "from pyspark.sql.functions import lower\n",
        "dfCasted = dfCasted.withColumn(\"name\", lower(col(\"name\")))\n",
        "dfCasted = dfCasted.withColumn(\"desc\", lower(col(\"desc\")))\n",
        "dfCasted = dfCasted.withColumn(\"keywords\", lower(col(\"keywords\")))\n",
        "\n",
        "dfCasted.show()"
      ]
    },
    {
      "cell_type": "markdown",
      "metadata": {
        "id": "w24kIm-m_Srb"
      },
      "source": [
        "**Q19 - Create a new column called *text* which contains the three previous columns. Be careful to include a space between them so that we can split them later.**"
      ]
    },
    {
      "cell_type": "code",
      "execution_count": 73,
      "metadata": {
        "id": "dPxFzvjC_Srb",
        "colab": {
          "base_uri": "https://localhost:8080/"
        },
        "outputId": "d7a85256-233e-491e-9bba-946055c76c4d"
      },
      "outputs": [
        {
          "output_type": "stream",
          "name": "stdout",
          "text": [
            "+----------------------------------------------------------------------------------------------------------------------------------------------------------------------------------------------------------------------------------------------------------------------------------------------------------------------------------------------------------------------------------------------------------------------------------------------------------------------------------------------------------------------------------------------------------------------------------------------------------------------------------------------------------------------------------------------------------------------------------------------------------+\n",
            "|text                                                                                                                                                                                                                                                                                                                                                                                                                                                                                                                                                                                                                                                                                                                                                      |\n",
            "+----------------------------------------------------------------------------------------------------------------------------------------------------------------------------------------------------------------------------------------------------------------------------------------------------------------------------------------------------------------------------------------------------------------------------------------------------------------------------------------------------------------------------------------------------------------------------------------------------------------------------------------------------------------------------------------------------------------------------------------------------------+\n",
            "|julie slick: terroir (my second album) hey! i m making my second solo album. i hope to feature many of the artists i ve met over the years while working with adrian belew. julie-slick-terroir-my-second-album                                                                                                                                                                                                                                                                                                                                                                                                                                                                                                                                           |\n",
            "|saving the honey bees: hour of decision saving the honey bees documentary  takes a look at the plight of the bees and offers sustainable solutions to modern beekeeping methods. saving-the-honey-bees-hour-of-decision                                                                                                                                                                                                                                                                                                                                                                                                                                                                                                                                   |\n",
            "|let's get physical! shuteye unison our future selves on wax. turn two years of writing and recording into something that will last  a vinyl record.  lets-get-physical-our-future-selves-on-wax                                                                                                                                                                                                                                                                                                                                                                                                                                                                                                                                                           |\n",
            "|suddenly: my story of the first 90 days with cancer the personal story of a newly diagnosed cancer patient  developing mind and spirit in the beginning when outcome is not certain. suddenly-my-story-of-the-first-90-days-with-cancer                                                                                                                                                                                                                                                                                                                                                                                                                                                                                                                   |\n",
            "|jacqueline hairston chorale@carnegie hall 2012 a fundraiser for the february 19th 2012 carnegie hall concert of spirituals+ world premiere with 300 singers from churches nationwide jacqueline-hairston-choralecarnegie-hall-2012                                                                                                                                                                                                                                                                                                                                                                                                                                                                                                                        |\n",
            "|pally smart finder:  bluetooth object finder pally smart finder is a small bluetooth smart (bluetooth low energy) based tag that allows you to find various personal items pally-smart-finder-bluetooth-object-finder                                                                                                                                                                                                                                                                                                                                                                                                                                                                                                                                     |\n",
            "|center for contemporary opera presents the secret agent! center for contemporary opera will reprise the secret agent to commemorate the 10th anniversary of the horrific events of 9/11. center-for-contemporary-opera-presents-the-secret                                                                                                                                                                                                                                                                                                                                                                                                                                                                                                                |\n",
            "|be my doppelganger kicks it forward with new album we recorded our 3rd full length record and could use your pre-order to release it! help us kick it forward  too! be-my-doppelganger-kicks-it-forward-with-new-album                                                                                                                                                                                                                                                                                                                                                                                                                                                                                                                                    |\n",
            "|\"will goble's first album \"\"\"\"\"\"\"\"\"\"\"\"\"\"\"\"\"\"\"\"\"\"\"\"\"\"\"\"\"\"\"\"\"\"\"\"\"\"\"\"\"\"\"\"\"\"\"\"\"\"\"\"\"\"\"\"\"\"\"\"\"\"\"\"\"\"\"\"\"\"\"\"\"\"\"\"\"\"\"\"\"\"\"\"\"\"\"\"\"\"\"\"\"\"\"\"\"\"\"\"\"\"\"\"\"\"\"\"\"\"\"\"\"\"\"\"\"\"\"\"\"\"\"\"\"\"\"\"\"\"\"\"\"\"\"\"\"\"\"\"\"\"\"\"\"\"\"\"\"\"\"\"\"\"\"\"\"\"\"\"\"\"\"\"\"\"\"\"\"\"\"\"\"\"\"\"\"\"\"\"\"\"\"\"\"\"\"\"\"\"\"\"\"\"\"\"\"\"\"\"\"\"\"\"\"\"\"\"\"\"\"\"\"\"\"\"\"\"\"\"\"\"\"\"\"\"\"\"\"\"\"\"\"\"\"\"\"\"\"\"\"\"\"\"\"\"\"\"\"\"\"\"\"\"\"\"out in the open\"\"\"\"\"\"\"\"\"\"\"\"\"\"\"\"\"\"\"\"\"\"\"\"\"\"\"\"\"\"\"\"\"\"\"\"\"\"\"\"\"\"\"\"\"\"\"\"\"\"\"\"\"\"\"\"\"\"\"\"\"\"\"\"\"\"\"\"\"\"\"\"\"\"\"\"\"\"\"\"\"\"\"\"\"\"\"\"\"\"\"\"\"\"\"\"\"\"\"\"\"\"\"\"\"\"\"\"\"\"\"\"\"\"\"\"\"\"\"\"\"\"\"\"\"\"\"\"\"\"\"\"\"\"\"\"\"\"\"\"\"\"\"\"\"\"\"\"\"\"\"\"\"\"\"\"\"\"\"\"\"\"\"\"\"\"\"\"\"\"\"\"\"\"\"\"\"\"\"\"\"\"\"\"\"\"\"\"\"\"\"\"\"\"\"\"\"\"\"\"\"\"\"\"\"\"\"\"\"\"\"\"\"\"\"\"\"\"\"\"\"\"\"\"\"\"\"\"\"\"\"\"\"\"\"\"\"\"\"\"\"\"\"\"\"\"\"\"\"\"\"\"\"\"\"\"\" help me complete my first record as a leader. featuring marcus printup  trumpet  and chad eby  saxophone  along with my long time trio. will-gobles-first-album-out-in-the-open|\n",
            "|observium alerting adding alerting infrastructure to observium  an network management platform designed to be both highly functional and a joy to use. observium-alerting                                                                                                                                                                                                                                                                                                                                                                                                                                                                                                                                                                                 |\n",
            "|viticulture: the strategic game of winemaking viticulture is a strategic board game that challenges players to create  cultivate  and expand a vineyard in rustic tuscany. viticulture-the-strategic-game-of-winemaking                                                                                                                                                                                                                                                                                                                                                                                                                                                                                                                                   |\n",
            "|inevitable: dystopian tabletop gaming violence!  betrayal!  laughs!  evil supercomputers!   inevitable  is the game of a future not much bleaker than our own. 30 copies still available... inevitable-dystopian-tabletop-gaming                                                                                                                                                                                                                                                                                                                                                                                                                                                                                                                          |\n",
            "|poems on the big screen? motionpoems. a poetry ... screening? motionpoems wants to turn the best american poetry 2011 into short films for new audiences. poems-on-the-big-screen-motionpoems                                                                                                                                                                                                                                                                                                                                                                                                                                                                                                                                                             |\n",
            "|the broken continent - post production and promotion join us on our journey as we fine tune our epic fantasy web series pilot and help get it out there for the world to see! the-broken-continent-post-production-and-promotion                                                                                                                                                                                                                                                                                                                                                                                                                                                                                                                          |\n",
            "|post production for the shelter in a woman s shelter with his mother  damon attempts to deal with the trauma of domestic violence. post-production-for-the-shelter                                                                                                                                                                                                                                                                                                                                                                                                                                                                                                                                                                                        |\n",
            "|permacrush's new 5 song e.p. we are getting set to make a new e.p. of songs with eric greedy. we are hoping for 4 new tracks and we ll add our single  love 2 hate u permacrushs-new-5-song-ep                                                                                                                                                                                                                                                                                                                                                                                                                                                                                                                                                            |\n",
            "|girl//friend - a short film by zoë hoetzel when luna suspects her two best girlfriends are having an affair  she becomes plagued with paranoia and jealousy. girl-friend-a-short-film-by-zoe-hoetzel                                                                                                                                                                                                                                                                                                                                                                                                                                                                                                                                                      |\n",
            "|get a hero's fate back on the road! we ve got some big plans in store for 2011  and we can t accomplish them without some basic tools to get us where we re going. get-a-heros-fate-back-on-the-road                                                                                                                                                                                                                                                                                                                                                                                                                                                                                                                                                      |\n",
            "|third annual georgian cultural festival (canceled) georgian cultural festival is a celebration of georgia (sakartvelo) and its culture and traditions! may 10  2-8pm. third-annual-georgian-cultural-festival                                                                                                                                                                                                                                                                                                                                                                                                                                                                                                                                             |\n",
            "|art over wheels: traveling art studio & creative classroom an awesome  artmobile  will bring free arts workshops  creative community projects  and interactive exhibitions directly to the street. art-over-wheels-traveling-art-studio-and-creative                                                                                                                                                                                                                                                                                                                                                                                                                                                                                                      |\n",
            "+----------------------------------------------------------------------------------------------------------------------------------------------------------------------------------------------------------------------------------------------------------------------------------------------------------------------------------------------------------------------------------------------------------------------------------------------------------------------------------------------------------------------------------------------------------------------------------------------------------------------------------------------------------------------------------------------------------------------------------------------------------+\n",
            "only showing top 20 rows\n",
            "\n"
          ]
        }
      ],
      "source": [
        "from pyspark.sql.functions import concat_ws\n",
        "dfCasted = dfCasted.withColumn(\"text\", concat_ws(\" \", col(\"name\"), col(\"desc\"), col(\"keywords\")))\n",
        "\n",
        "dfCasted.select(\"text\").show(truncate=False)\n",
        "\n"
      ]
    },
    {
      "cell_type": "markdown",
      "metadata": {
        "id": "zppAUj28_Srb"
      },
      "source": [
        "**Q20 - You can now delete these three text columns.**"
      ]
    },
    {
      "cell_type": "code",
      "execution_count": 74,
      "metadata": {
        "ExecuteTime": {
          "end_time": "2019-05-24T10:31:18.118153Z",
          "start_time": "2019-05-24T10:31:18.101652Z"
        },
        "id": "TolHbSzt_Srb",
        "colab": {
          "base_uri": "https://localhost:8080/"
        },
        "outputId": "0e2d7a75-e7af-4a06-c0cf-bcba1ba15985"
      },
      "outputs": [
        {
          "output_type": "stream",
          "name": "stdout",
          "text": [
            "+--------------+-------+------------+-------------+--------+---------+-------------+----------+----------------------------------------------------------------------------------------------------------------------------------------------------------------------------------------------------------------------------------------------------------------------------------------------------------------------------------------------------------------------------------------------------------------------------------------------------------------------------------------------------------------------------------------------------------------------------------------------------------------------------------------------------------------------------------------------------------------------------------------------------------+\n",
            "|project_id    |goal   |final_status|communication|country2|currency2|days_campaign|hours_prep|text                                                                                                                                                                                                                                                                                                                                                                                                                                                                                                                                                                                                                                                                                                                                                      |\n",
            "+--------------+-------+------------+-------------+--------+---------+-------------+----------+----------------------------------------------------------------------------------------------------------------------------------------------------------------------------------------------------------------------------------------------------------------------------------------------------------------------------------------------------------------------------------------------------------------------------------------------------------------------------------------------------------------------------------------------------------------------------------------------------------------------------------------------------------------------------------------------------------------------------------------------------------+\n",
            "|kkst953076619 |6000.0 |1           |             |US      |USD      |40           |168.0     |julie slick: terroir (my second album) hey! i m making my second solo album. i hope to feature many of the artists i ve met over the years while working with adrian belew. julie-slick-terroir-my-second-album                                                                                                                                                                                                                                                                                                                                                                                                                                                                                                                                           |\n",
            "|kkst208957596 |12000.0|0           |             |US      |USD      |60           |600.0     |saving the honey bees: hour of decision saving the honey bees documentary  takes a look at the plight of the bees and offers sustainable solutions to modern beekeeping methods. saving-the-honey-bees-hour-of-decision                                                                                                                                                                                                                                                                                                                                                                                                                                                                                                                                   |\n",
            "|kkst1065748931|2250.0 |1           |             |US      |USD      |66           |456.0     |let's get physical! shuteye unison our future selves on wax. turn two years of writing and recording into something that will last  a vinyl record.  lets-get-physical-our-future-selves-on-wax                                                                                                                                                                                                                                                                                                                                                                                                                                                                                                                                                           |\n",
            "|kkst1410424018|8000.0 |0           |             |US      |USD      |15           |120.0     |suddenly: my story of the first 90 days with cancer the personal story of a newly diagnosed cancer patient  developing mind and spirit in the beginning when outcome is not certain. suddenly-my-story-of-the-first-90-days-with-cancer                                                                                                                                                                                                                                                                                                                                                                                                                                                                                                                   |\n",
            "|kkst1865702072|3000.0 |0           |             |US      |USD      |60           |0.0       |jacqueline hairston chorale@carnegie hall 2012 a fundraiser for the february 19th 2012 carnegie hall concert of spirituals+ world premiere with 300 singers from churches nationwide jacqueline-hairston-choralecarnegie-hall-2012                                                                                                                                                                                                                                                                                                                                                                                                                                                                                                                        |\n",
            "|kkst621184226 |5000.0 |0           |             |CA      |CAD      |30           |2568.0    |pally smart finder:  bluetooth object finder pally smart finder is a small bluetooth smart (bluetooth low energy) based tag that allows you to find various personal items pally-smart-finder-bluetooth-object-finder                                                                                                                                                                                                                                                                                                                                                                                                                                                                                                                                     |\n",
            "|kkst41576169  |10000.0|0           |             |US      |USD      |30           |96.0      |center for contemporary opera presents the secret agent! center for contemporary opera will reprise the secret agent to commemorate the 10th anniversary of the horrific events of 9/11. center-for-contemporary-opera-presents-the-secret                                                                                                                                                                                                                                                                                                                                                                                                                                                                                                                |\n",
            "|kkst256509435 |5500.0 |1           |             |US      |USD      |30           |672.0     |be my doppelganger kicks it forward with new album we recorded our 3rd full length record and could use your pre-order to release it! help us kick it forward  too! be-my-doppelganger-kicks-it-forward-with-new-album                                                                                                                                                                                                                                                                                                                                                                                                                                                                                                                                    |\n",
            "|kkst1714365172|2200.0 |1           |             |US      |USD      |40           |2208.0    |\"will goble's first album \"\"\"\"\"\"\"\"\"\"\"\"\"\"\"\"\"\"\"\"\"\"\"\"\"\"\"\"\"\"\"\"\"\"\"\"\"\"\"\"\"\"\"\"\"\"\"\"\"\"\"\"\"\"\"\"\"\"\"\"\"\"\"\"\"\"\"\"\"\"\"\"\"\"\"\"\"\"\"\"\"\"\"\"\"\"\"\"\"\"\"\"\"\"\"\"\"\"\"\"\"\"\"\"\"\"\"\"\"\"\"\"\"\"\"\"\"\"\"\"\"\"\"\"\"\"\"\"\"\"\"\"\"\"\"\"\"\"\"\"\"\"\"\"\"\"\"\"\"\"\"\"\"\"\"\"\"\"\"\"\"\"\"\"\"\"\"\"\"\"\"\"\"\"\"\"\"\"\"\"\"\"\"\"\"\"\"\"\"\"\"\"\"\"\"\"\"\"\"\"\"\"\"\"\"\"\"\"\"\"\"\"\"\"\"\"\"\"\"\"\"\"\"\"\"\"\"\"\"\"\"\"\"\"\"\"\"\"\"\"\"\"\"\"\"\"\"\"\"\"\"\"\"\"\"\"out in the open\"\"\"\"\"\"\"\"\"\"\"\"\"\"\"\"\"\"\"\"\"\"\"\"\"\"\"\"\"\"\"\"\"\"\"\"\"\"\"\"\"\"\"\"\"\"\"\"\"\"\"\"\"\"\"\"\"\"\"\"\"\"\"\"\"\"\"\"\"\"\"\"\"\"\"\"\"\"\"\"\"\"\"\"\"\"\"\"\"\"\"\"\"\"\"\"\"\"\"\"\"\"\"\"\"\"\"\"\"\"\"\"\"\"\"\"\"\"\"\"\"\"\"\"\"\"\"\"\"\"\"\"\"\"\"\"\"\"\"\"\"\"\"\"\"\"\"\"\"\"\"\"\"\"\"\"\"\"\"\"\"\"\"\"\"\"\"\"\"\"\"\"\"\"\"\"\"\"\"\"\"\"\"\"\"\"\"\"\"\"\"\"\"\"\"\"\"\"\"\"\"\"\"\"\"\"\"\"\"\"\"\"\"\"\"\"\"\"\"\"\"\"\"\"\"\"\"\"\"\"\"\"\"\"\"\"\"\"\"\"\"\"\"\"\"\"\"\"\"\"\"\"\"\"\"\"\" help me complete my first record as a leader. featuring marcus printup  trumpet  and chad eby  saxophone  along with my long time trio. will-gobles-first-album-out-in-the-open|\n",
            "|kkst2122569186|5000.0 |1           |             |GB      |GBP      |30           |216.0     |observium alerting adding alerting infrastructure to observium  an network management platform designed to be both highly functional and a joy to use. observium-alerting                                                                                                                                                                                                                                                                                                                                                                                                                                                                                                                                                                                 |\n",
            "|kkst457461729 |25000.0|1           |             |US      |USD      |45           |552.0     |viticulture: the strategic game of winemaking viticulture is a strategic board game that challenges players to create  cultivate  and expand a vineyard in rustic tuscany. viticulture-the-strategic-game-of-winemaking                                                                                                                                                                                                                                                                                                                                                                                                                                                                                                                                   |\n",
            "|kkst334120552 |3000.0 |1           |             |US      |USD      |89           |24.0      |inevitable: dystopian tabletop gaming violence!  betrayal!  laughs!  evil supercomputers!   inevitable  is the game of a future not much bleaker than our own. 30 copies still available... inevitable-dystopian-tabletop-gaming                                                                                                                                                                                                                                                                                                                                                                                                                                                                                                                          |\n",
            "|kkst484890102 |15000.0|1           |             |US      |USD      |30           |144.0     |poems on the big screen? motionpoems. a poetry ... screening? motionpoems wants to turn the best american poetry 2011 into short films for new audiences. poems-on-the-big-screen-motionpoems                                                                                                                                                                                                                                                                                                                                                                                                                                                                                                                                                             |\n",
            "|kkst1828171845|10000.0|1           |             |US      |USD      |31           |96.0      |the broken continent - post production and promotion join us on our journey as we fine tune our epic fantasy web series pilot and help get it out there for the world to see! the-broken-continent-post-production-and-promotion                                                                                                                                                                                                                                                                                                                                                                                                                                                                                                                          |\n",
            "|kkst545324025 |1000.0 |0           |             |US      |USD      |45           |552.0     |post production for the shelter in a woman s shelter with his mother  damon attempts to deal with the trauma of domestic violence. post-production-for-the-shelter                                                                                                                                                                                                                                                                                                                                                                                                                                                                                                                                                                                        |\n",
            "|kkst1736167270|5000.0 |0           |             |US      |USD      |30           |120.0     |permacrush's new 5 song e.p. we are getting set to make a new e.p. of songs with eric greedy. we are hoping for 4 new tracks and we ll add our single  love 2 hate u permacrushs-new-5-song-ep                                                                                                                                                                                                                                                                                                                                                                                                                                                                                                                                                            |\n",
            "|kkst902460881 |2500.0 |1           |             |US      |USD      |16           |120.0     |girl//friend - a short film by zoë hoetzel when luna suspects her two best girlfriends are having an affair  she becomes plagued with paranoia and jealousy. girl-friend-a-short-film-by-zoe-hoetzel                                                                                                                                                                                                                                                                                                                                                                                                                                                                                                                                                      |\n",
            "|kkst821993116 |5000.0 |1           |             |US      |USD      |27           |0.0       |get a hero's fate back on the road! we ve got some big plans in store for 2011  and we can t accomplish them without some basic tools to get us where we re going. get-a-heros-fate-back-on-the-road                                                                                                                                                                                                                                                                                                                                                                                                                                                                                                                                                      |\n",
            "|kkst417945739 |8200.0 |0           |             |US      |USD      |60           |264.0     |third annual georgian cultural festival (canceled) georgian cultural festival is a celebration of georgia (sakartvelo) and its culture and traditions! may 10  2-8pm. third-annual-georgian-cultural-festival                                                                                                                                                                                                                                                                                                                                                                                                                                                                                                                                             |\n",
            "|kkst773888497 |11100.0|0           |             |US      |USD      |30           |216.0     |art over wheels: traveling art studio & creative classroom an awesome  artmobile  will bring free arts workshops  creative community projects  and interactive exhibitions directly to the street. art-over-wheels-traveling-art-studio-and-creative                                                                                                                                                                                                                                                                                                                                                                                                                                                                                                      |\n",
            "+--------------+-------+------------+-------------+--------+---------+-------------+----------+----------------------------------------------------------------------------------------------------------------------------------------------------------------------------------------------------------------------------------------------------------------------------------------------------------------------------------------------------------------------------------------------------------------------------------------------------------------------------------------------------------------------------------------------------------------------------------------------------------------------------------------------------------------------------------------------------------------------------------------------------------+\n",
            "only showing top 20 rows\n",
            "\n"
          ]
        }
      ],
      "source": [
        "# TODO\n",
        "dfCasted = dfCasted.drop(\"name\", \"desc\", \"keywords\")\n",
        "dfCasted.show(truncate=False)\n"
      ]
    },
    {
      "cell_type": "markdown",
      "metadata": {
        "id": "s8Eij5wV_Srb"
      },
      "source": [
        "## Processing null values\n",
        "\n",
        "**Q21 - There are various techniques to handle null values to make them usable by an algorithm. Can you find 3 different methods ?**"
      ]
    },
    {
      "cell_type": "code",
      "execution_count": 75,
      "metadata": {
        "id": "GZICKyAx_Srb",
        "colab": {
          "base_uri": "https://localhost:8080/",
          "height": 53
        },
        "outputId": "b1521af6-668e-4a34-c3bb-96ce137ffd03"
      },
      "outputs": [
        {
          "output_type": "execute_result",
          "data": {
            "text/plain": [
              "'\\ndrop the column with null values \\nuse filna and replace with a default value\\nuse filna and replace with a statistic value\\n'"
            ],
            "application/vnd.google.colaboratory.intrinsic+json": {
              "type": "string"
            }
          },
          "metadata": {},
          "execution_count": 75
        }
      ],
      "source": [
        "# TODO : Write your answer\n",
        "'''\n",
        "drop the column with null values\n",
        "use filna and replace with a default value\n",
        "use filna and replace with a statistic value\n",
        "'''"
      ]
    },
    {
      "cell_type": "markdown",
      "metadata": {
        "id": "zqI2cjIP_Src"
      },
      "source": [
        "**Q22 - For the columns *days_campaign*, *hours_prep* and *goal* : replace null values by **-1**.**"
      ]
    },
    {
      "cell_type": "code",
      "execution_count": 76,
      "metadata": {
        "ExecuteTime": {
          "end_time": "2019-05-24T10:37:16.344695Z",
          "start_time": "2019-05-24T10:37:16.302203Z"
        },
        "id": "ar5jNudF_Src"
      },
      "outputs": [],
      "source": [
        "# Look for na.fill at the following adress :\n",
        "# https://spark.apache.org/docs/2.1.0/api/python/pyspark.sql.html\n",
        "dfCasted = dfCasted.fillna({\"days_campaign\": -1, \"hours_prep\": -1, \"goal\": -1})\n",
        "# TODO\n"
      ]
    },
    {
      "cell_type": "markdown",
      "metadata": {
        "id": "-XwSuvZ4_Src"
      },
      "source": [
        "**Q23 - For the columns **country2** and **currency2** : replace null values by **\"unknown\"**.**"
      ]
    },
    {
      "cell_type": "code",
      "execution_count": 77,
      "metadata": {
        "id": "2cdGy1Q2_Src"
      },
      "outputs": [],
      "source": [
        "# TODO\n",
        "dfCasted = dfCasted.fillna({\"country2\": \"unknown\", \"currency2\": \"unknown\"})\n"
      ]
    },
    {
      "cell_type": "markdown",
      "metadata": {
        "id": "RqvXFub3_Src"
      },
      "source": [
        "## Exporting Dataframe\n",
        "\n",
        "Well done, you have done a pretty good pipeline for pre-processing your dataset.\n",
        "\n",
        "**Q24 - Finally, export your dataframe to the *parquet* format.**\n",
        "\n",
        "*parquet* always exports a folder that may contain multiple files, this is due to the distributed nature of Spark.\n",
        "\n",
        "The export function creates a directory with the name given in parameter. Give it **\"kickstarter.parquet\"**."
      ]
    },
    {
      "cell_type": "code",
      "execution_count": 78,
      "metadata": {
        "ExecuteTime": {
          "end_time": "2019-05-24T10:40:48.532087Z",
          "start_time": "2019-05-24T10:40:45.353047Z"
        },
        "id": "178oRmMs_Src",
        "colab": {
          "base_uri": "https://localhost:8080/",
          "height": 321
        },
        "outputId": "dbc3d68c-de50-4593-acd6-7879214b0c94"
      },
      "outputs": [
        {
          "output_type": "error",
          "ename": "AnalysisException",
          "evalue": "[PATH_ALREADY_EXISTS] Path file:/content/kickstarter.parquet already exists. Set mode as \"overwrite\" to overwrite the existing path.",
          "traceback": [
            "\u001b[0;31m---------------------------------------------------------------------------\u001b[0m",
            "\u001b[0;31mAnalysisException\u001b[0m                         Traceback (most recent call last)",
            "\u001b[0;32m<ipython-input-78-a55d5d92e205>\u001b[0m in \u001b[0;36m<cell line: 0>\u001b[0;34m()\u001b[0m\n\u001b[1;32m      1\u001b[0m \u001b[0;31m# TODO\u001b[0m\u001b[0;34m\u001b[0m\u001b[0;34m\u001b[0m\u001b[0m\n\u001b[0;32m----> 2\u001b[0;31m \u001b[0mdfCasted\u001b[0m\u001b[0;34m.\u001b[0m\u001b[0mwrite\u001b[0m\u001b[0;34m.\u001b[0m\u001b[0mparquet\u001b[0m\u001b[0;34m(\u001b[0m\u001b[0;34m\"kickstarter.parquet\"\u001b[0m\u001b[0;34m)\u001b[0m\u001b[0;34m\u001b[0m\u001b[0;34m\u001b[0m\u001b[0m\n\u001b[0m",
            "\u001b[0;32m/usr/local/lib/python3.11/dist-packages/pyspark/sql/readwriter.py\u001b[0m in \u001b[0;36mparquet\u001b[0;34m(self, path, mode, partitionBy, compression)\u001b[0m\n\u001b[1;32m   1719\u001b[0m             \u001b[0mself\u001b[0m\u001b[0;34m.\u001b[0m\u001b[0mpartitionBy\u001b[0m\u001b[0;34m(\u001b[0m\u001b[0mpartitionBy\u001b[0m\u001b[0;34m)\u001b[0m\u001b[0;34m\u001b[0m\u001b[0;34m\u001b[0m\u001b[0m\n\u001b[1;32m   1720\u001b[0m         \u001b[0mself\u001b[0m\u001b[0;34m.\u001b[0m\u001b[0m_set_opts\u001b[0m\u001b[0;34m(\u001b[0m\u001b[0mcompression\u001b[0m\u001b[0;34m=\u001b[0m\u001b[0mcompression\u001b[0m\u001b[0;34m)\u001b[0m\u001b[0;34m\u001b[0m\u001b[0;34m\u001b[0m\u001b[0m\n\u001b[0;32m-> 1721\u001b[0;31m         \u001b[0mself\u001b[0m\u001b[0;34m.\u001b[0m\u001b[0m_jwrite\u001b[0m\u001b[0;34m.\u001b[0m\u001b[0mparquet\u001b[0m\u001b[0;34m(\u001b[0m\u001b[0mpath\u001b[0m\u001b[0;34m)\u001b[0m\u001b[0;34m\u001b[0m\u001b[0;34m\u001b[0m\u001b[0m\n\u001b[0m\u001b[1;32m   1722\u001b[0m \u001b[0;34m\u001b[0m\u001b[0m\n\u001b[1;32m   1723\u001b[0m     def text(\n",
            "\u001b[0;32m/usr/local/lib/python3.11/dist-packages/py4j/java_gateway.py\u001b[0m in \u001b[0;36m__call__\u001b[0;34m(self, *args)\u001b[0m\n\u001b[1;32m   1320\u001b[0m \u001b[0;34m\u001b[0m\u001b[0m\n\u001b[1;32m   1321\u001b[0m         \u001b[0manswer\u001b[0m \u001b[0;34m=\u001b[0m \u001b[0mself\u001b[0m\u001b[0;34m.\u001b[0m\u001b[0mgateway_client\u001b[0m\u001b[0;34m.\u001b[0m\u001b[0msend_command\u001b[0m\u001b[0;34m(\u001b[0m\u001b[0mcommand\u001b[0m\u001b[0;34m)\u001b[0m\u001b[0;34m\u001b[0m\u001b[0;34m\u001b[0m\u001b[0m\n\u001b[0;32m-> 1322\u001b[0;31m         return_value = get_return_value(\n\u001b[0m\u001b[1;32m   1323\u001b[0m             answer, self.gateway_client, self.target_id, self.name)\n\u001b[1;32m   1324\u001b[0m \u001b[0;34m\u001b[0m\u001b[0m\n",
            "\u001b[0;32m/usr/local/lib/python3.11/dist-packages/pyspark/errors/exceptions/captured.py\u001b[0m in \u001b[0;36mdeco\u001b[0;34m(*a, **kw)\u001b[0m\n\u001b[1;32m    183\u001b[0m                 \u001b[0;31m# Hide where the exception came from that shows a non-Pythonic\u001b[0m\u001b[0;34m\u001b[0m\u001b[0;34m\u001b[0m\u001b[0m\n\u001b[1;32m    184\u001b[0m                 \u001b[0;31m# JVM exception message.\u001b[0m\u001b[0;34m\u001b[0m\u001b[0;34m\u001b[0m\u001b[0m\n\u001b[0;32m--> 185\u001b[0;31m                 \u001b[0;32mraise\u001b[0m \u001b[0mconverted\u001b[0m \u001b[0;32mfrom\u001b[0m \u001b[0;32mNone\u001b[0m\u001b[0;34m\u001b[0m\u001b[0;34m\u001b[0m\u001b[0m\n\u001b[0m\u001b[1;32m    186\u001b[0m             \u001b[0;32melse\u001b[0m\u001b[0;34m:\u001b[0m\u001b[0;34m\u001b[0m\u001b[0;34m\u001b[0m\u001b[0m\n\u001b[1;32m    187\u001b[0m                 \u001b[0;32mraise\u001b[0m\u001b[0;34m\u001b[0m\u001b[0;34m\u001b[0m\u001b[0m\n",
            "\u001b[0;31mAnalysisException\u001b[0m: [PATH_ALREADY_EXISTS] Path file:/content/kickstarter.parquet already exists. Set mode as \"overwrite\" to overwrite the existing path."
          ]
        }
      ],
      "source": [
        "# TODO\n",
        "dfCasted.write.parquet(\"kickstarter.parquet\")\n"
      ]
    }
  ],
  "metadata": {
    "kernelspec": {
      "display_name": "Python 3",
      "language": "python",
      "name": "python3"
    },
    "language_info": {
      "codemirror_mode": {
        "name": "ipython",
        "version": 3
      },
      "file_extension": ".py",
      "mimetype": "text/x-python",
      "name": "python",
      "nbconvert_exporter": "python",
      "pygments_lexer": "ipython3",
      "version": "3.6.8"
    },
    "toc": {
      "base_numbering": 1,
      "nav_menu": {},
      "number_sections": false,
      "sideBar": true,
      "skip_h1_title": false,
      "title_cell": "Table of Contents",
      "title_sidebar": "Contents",
      "toc_cell": false,
      "toc_position": {},
      "toc_section_display": true,
      "toc_window_display": false
    },
    "colab": {
      "provenance": [],
      "include_colab_link": true
    }
  },
  "nbformat": 4,
  "nbformat_minor": 0
}